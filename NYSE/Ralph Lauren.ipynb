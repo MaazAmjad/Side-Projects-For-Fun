{
 "cells": [
  {
   "cell_type": "markdown",
   "metadata": {},
   "source": [
    "# Importing the Packages"
   ]
  },
  {
   "cell_type": "code",
   "execution_count": 1,
   "metadata": {},
   "outputs": [],
   "source": [
    "import numpy as np"
   ]
  },
  {
   "cell_type": "code",
   "execution_count": 2,
   "metadata": {},
   "outputs": [],
   "source": [
    "import pandas as pd"
   ]
  },
  {
   "cell_type": "code",
   "execution_count": 3,
   "metadata": {},
   "outputs": [],
   "source": [
    "import matplotlib.pyplot as plt\n",
    "%matplotlib inline"
   ]
  },
  {
   "cell_type": "code",
   "execution_count": 4,
   "metadata": {},
   "outputs": [],
   "source": [
    "from pandas import datetime"
   ]
  },
  {
   "cell_type": "code",
   "execution_count": 5,
   "metadata": {},
   "outputs": [],
   "source": [
    "import seaborn as sns"
   ]
  },
  {
   "cell_type": "code",
   "execution_count": 6,
   "metadata": {},
   "outputs": [],
   "source": [
    "import math, time"
   ]
  },
  {
   "cell_type": "code",
   "execution_count": 7,
   "metadata": {},
   "outputs": [],
   "source": [
    "import itertools"
   ]
  },
  {
   "cell_type": "code",
   "execution_count": 8,
   "metadata": {},
   "outputs": [],
   "source": [
    "import datetime"
   ]
  },
  {
   "cell_type": "code",
   "execution_count": 9,
   "metadata": {},
   "outputs": [],
   "source": [
    "from operator import itemgetter"
   ]
  },
  {
   "cell_type": "code",
   "execution_count": 10,
   "metadata": {},
   "outputs": [],
   "source": [
    "from sklearn import preprocessing"
   ]
  },
  {
   "cell_type": "code",
   "execution_count": 11,
   "metadata": {},
   "outputs": [],
   "source": [
    "from sklearn.metrics import mean_squared_error"
   ]
  },
  {
   "cell_type": "code",
   "execution_count": 12,
   "metadata": {},
   "outputs": [],
   "source": [
    "from math import sqrt"
   ]
  },
  {
   "cell_type": "code",
   "execution_count": 13,
   "metadata": {},
   "outputs": [
    {
     "name": "stderr",
     "output_type": "stream",
     "text": [
      "Using TensorFlow backend.\n"
     ]
    }
   ],
   "source": [
    "from keras.models import Sequential"
   ]
  },
  {
   "cell_type": "code",
   "execution_count": 14,
   "metadata": {},
   "outputs": [],
   "source": [
    "from keras.layers.core import Dense, Dropout, Activation"
   ]
  },
  {
   "cell_type": "code",
   "execution_count": 15,
   "metadata": {},
   "outputs": [],
   "source": [
    "from keras.layers.recurrent import LSTM"
   ]
  },
  {
   "cell_type": "code",
   "execution_count": 16,
   "metadata": {},
   "outputs": [],
   "source": [
    "from keras.models import load_model"
   ]
  },
  {
   "cell_type": "code",
   "execution_count": 17,
   "metadata": {},
   "outputs": [],
   "source": [
    "import keras"
   ]
  },
  {
   "cell_type": "code",
   "execution_count": 18,
   "metadata": {},
   "outputs": [],
   "source": [
    "import h5py"
   ]
  },
  {
   "cell_type": "code",
   "execution_count": 19,
   "metadata": {},
   "outputs": [],
   "source": [
    "import requests"
   ]
  },
  {
   "cell_type": "code",
   "execution_count": 20,
   "metadata": {},
   "outputs": [],
   "source": [
    "import os"
   ]
  },
  {
   "cell_type": "markdown",
   "metadata": {},
   "source": [
    "# Reading the Data"
   ]
  },
  {
   "cell_type": "code",
   "execution_count": 21,
   "metadata": {},
   "outputs": [
    {
     "data": {
      "text/html": [
       "<div>\n",
       "<style scoped>\n",
       "    .dataframe tbody tr th:only-of-type {\n",
       "        vertical-align: middle;\n",
       "    }\n",
       "\n",
       "    .dataframe tbody tr th {\n",
       "        vertical-align: top;\n",
       "    }\n",
       "\n",
       "    .dataframe thead th {\n",
       "        text-align: right;\n",
       "    }\n",
       "</style>\n",
       "<table border=\"1\" class=\"dataframe\">\n",
       "  <thead>\n",
       "    <tr style=\"text-align: right;\">\n",
       "      <th></th>\n",
       "      <th>symbol</th>\n",
       "      <th>open</th>\n",
       "      <th>low</th>\n",
       "      <th>high</th>\n",
       "      <th>volume</th>\n",
       "      <th>adj close</th>\n",
       "    </tr>\n",
       "    <tr>\n",
       "      <th>date</th>\n",
       "      <th></th>\n",
       "      <th></th>\n",
       "      <th></th>\n",
       "      <th></th>\n",
       "      <th></th>\n",
       "      <th></th>\n",
       "    </tr>\n",
       "  </thead>\n",
       "  <tbody>\n",
       "    <tr>\n",
       "      <th>2016-01-05</th>\n",
       "      <td>WLTW</td>\n",
       "      <td>123.430000</td>\n",
       "      <td>122.309998</td>\n",
       "      <td>126.250000</td>\n",
       "      <td>2163600.0</td>\n",
       "      <td>125.839996</td>\n",
       "    </tr>\n",
       "    <tr>\n",
       "      <th>2016-01-06</th>\n",
       "      <td>WLTW</td>\n",
       "      <td>125.239998</td>\n",
       "      <td>119.940002</td>\n",
       "      <td>125.540001</td>\n",
       "      <td>2386400.0</td>\n",
       "      <td>119.980003</td>\n",
       "    </tr>\n",
       "    <tr>\n",
       "      <th>2016-01-07</th>\n",
       "      <td>WLTW</td>\n",
       "      <td>116.379997</td>\n",
       "      <td>114.930000</td>\n",
       "      <td>119.739998</td>\n",
       "      <td>2489500.0</td>\n",
       "      <td>114.949997</td>\n",
       "    </tr>\n",
       "    <tr>\n",
       "      <th>2016-01-08</th>\n",
       "      <td>WLTW</td>\n",
       "      <td>115.480003</td>\n",
       "      <td>113.500000</td>\n",
       "      <td>117.440002</td>\n",
       "      <td>2006300.0</td>\n",
       "      <td>116.620003</td>\n",
       "    </tr>\n",
       "    <tr>\n",
       "      <th>2016-01-11</th>\n",
       "      <td>WLTW</td>\n",
       "      <td>117.010002</td>\n",
       "      <td>114.089996</td>\n",
       "      <td>117.330002</td>\n",
       "      <td>1408600.0</td>\n",
       "      <td>114.970001</td>\n",
       "    </tr>\n",
       "  </tbody>\n",
       "</table>\n",
       "</div>"
      ],
      "text/plain": [
       "           symbol        open         low        high     volume   adj close\n",
       "date                                                                        \n",
       "2016-01-05   WLTW  123.430000  122.309998  126.250000  2163600.0  125.839996\n",
       "2016-01-06   WLTW  125.239998  119.940002  125.540001  2386400.0  119.980003\n",
       "2016-01-07   WLTW  116.379997  114.930000  119.739998  2489500.0  114.949997\n",
       "2016-01-08   WLTW  115.480003  113.500000  117.440002  2006300.0  116.620003\n",
       "2016-01-11   WLTW  117.010002  114.089996  117.330002  1408600.0  114.970001"
      ]
     },
     "execution_count": 21,
     "metadata": {},
     "output_type": "execute_result"
    }
   ],
   "source": [
    "adjusted = pd.read_csv(\"./prices-split-adjusted.csv\", index_col = 0)\n",
    "adjusted[\"adj close\"] = adjusted.close # Moving close to the last column\n",
    "adjusted.drop(['close'], 1, inplace=True) # Moving close to the last column\n",
    "adjusted.head()"
   ]
  },
  {
   "cell_type": "code",
   "execution_count": 22,
   "metadata": {},
   "outputs": [
    {
     "data": {
      "text/html": [
       "<div>\n",
       "<style scoped>\n",
       "    .dataframe tbody tr th:only-of-type {\n",
       "        vertical-align: middle;\n",
       "    }\n",
       "\n",
       "    .dataframe tbody tr th {\n",
       "        vertical-align: top;\n",
       "    }\n",
       "\n",
       "    .dataframe thead th {\n",
       "        text-align: right;\n",
       "    }\n",
       "</style>\n",
       "<table border=\"1\" class=\"dataframe\">\n",
       "  <thead>\n",
       "    <tr style=\"text-align: right;\">\n",
       "      <th></th>\n",
       "      <th>Unnamed: 0</th>\n",
       "      <th>Ticker Symbol</th>\n",
       "      <th>Period Ending</th>\n",
       "      <th>Accounts Payable</th>\n",
       "      <th>Accounts Receivable</th>\n",
       "      <th>Add'l income/expense items</th>\n",
       "      <th>After Tax ROE</th>\n",
       "      <th>Capital Expenditures</th>\n",
       "      <th>Capital Surplus</th>\n",
       "      <th>Cash Ratio</th>\n",
       "      <th>...</th>\n",
       "      <th>Total Current Assets</th>\n",
       "      <th>Total Current Liabilities</th>\n",
       "      <th>Total Equity</th>\n",
       "      <th>Total Liabilities</th>\n",
       "      <th>Total Liabilities &amp; Equity</th>\n",
       "      <th>Total Revenue</th>\n",
       "      <th>Treasury Stock</th>\n",
       "      <th>For Year</th>\n",
       "      <th>Earnings Per Share</th>\n",
       "      <th>Estimated Shares Outstanding</th>\n",
       "    </tr>\n",
       "  </thead>\n",
       "  <tbody>\n",
       "    <tr>\n",
       "      <th>0</th>\n",
       "      <td>0</td>\n",
       "      <td>AAL</td>\n",
       "      <td>2012-12-31</td>\n",
       "      <td>3.068000e+09</td>\n",
       "      <td>-222000000.0</td>\n",
       "      <td>-1.961000e+09</td>\n",
       "      <td>23.0</td>\n",
       "      <td>-1.888000e+09</td>\n",
       "      <td>4.695000e+09</td>\n",
       "      <td>53.0</td>\n",
       "      <td>...</td>\n",
       "      <td>7.072000e+09</td>\n",
       "      <td>9.011000e+09</td>\n",
       "      <td>-7.987000e+09</td>\n",
       "      <td>2.489100e+10</td>\n",
       "      <td>1.690400e+10</td>\n",
       "      <td>2.485500e+10</td>\n",
       "      <td>-367000000.0</td>\n",
       "      <td>2012.0</td>\n",
       "      <td>-5.60</td>\n",
       "      <td>3.350000e+08</td>\n",
       "    </tr>\n",
       "    <tr>\n",
       "      <th>1</th>\n",
       "      <td>1</td>\n",
       "      <td>AAL</td>\n",
       "      <td>2013-12-31</td>\n",
       "      <td>4.975000e+09</td>\n",
       "      <td>-93000000.0</td>\n",
       "      <td>-2.723000e+09</td>\n",
       "      <td>67.0</td>\n",
       "      <td>-3.114000e+09</td>\n",
       "      <td>1.059200e+10</td>\n",
       "      <td>75.0</td>\n",
       "      <td>...</td>\n",
       "      <td>1.432300e+10</td>\n",
       "      <td>1.380600e+10</td>\n",
       "      <td>-2.731000e+09</td>\n",
       "      <td>4.500900e+10</td>\n",
       "      <td>4.227800e+10</td>\n",
       "      <td>2.674300e+10</td>\n",
       "      <td>0.0</td>\n",
       "      <td>2013.0</td>\n",
       "      <td>-11.25</td>\n",
       "      <td>1.630222e+08</td>\n",
       "    </tr>\n",
       "    <tr>\n",
       "      <th>2</th>\n",
       "      <td>2</td>\n",
       "      <td>AAL</td>\n",
       "      <td>2014-12-31</td>\n",
       "      <td>4.668000e+09</td>\n",
       "      <td>-160000000.0</td>\n",
       "      <td>-1.500000e+08</td>\n",
       "      <td>143.0</td>\n",
       "      <td>-5.311000e+09</td>\n",
       "      <td>1.513500e+10</td>\n",
       "      <td>60.0</td>\n",
       "      <td>...</td>\n",
       "      <td>1.175000e+10</td>\n",
       "      <td>1.340400e+10</td>\n",
       "      <td>2.021000e+09</td>\n",
       "      <td>4.120400e+10</td>\n",
       "      <td>4.322500e+10</td>\n",
       "      <td>4.265000e+10</td>\n",
       "      <td>0.0</td>\n",
       "      <td>2014.0</td>\n",
       "      <td>4.02</td>\n",
       "      <td>7.169154e+08</td>\n",
       "    </tr>\n",
       "    <tr>\n",
       "      <th>3</th>\n",
       "      <td>3</td>\n",
       "      <td>AAL</td>\n",
       "      <td>2015-12-31</td>\n",
       "      <td>5.102000e+09</td>\n",
       "      <td>352000000.0</td>\n",
       "      <td>-7.080000e+08</td>\n",
       "      <td>135.0</td>\n",
       "      <td>-6.151000e+09</td>\n",
       "      <td>1.159100e+10</td>\n",
       "      <td>51.0</td>\n",
       "      <td>...</td>\n",
       "      <td>9.985000e+09</td>\n",
       "      <td>1.360500e+10</td>\n",
       "      <td>5.635000e+09</td>\n",
       "      <td>4.278000e+10</td>\n",
       "      <td>4.841500e+10</td>\n",
       "      <td>4.099000e+10</td>\n",
       "      <td>0.0</td>\n",
       "      <td>2015.0</td>\n",
       "      <td>11.39</td>\n",
       "      <td>6.681299e+08</td>\n",
       "    </tr>\n",
       "    <tr>\n",
       "      <th>4</th>\n",
       "      <td>4</td>\n",
       "      <td>AAP</td>\n",
       "      <td>2012-12-29</td>\n",
       "      <td>2.409453e+09</td>\n",
       "      <td>-89482000.0</td>\n",
       "      <td>6.000000e+05</td>\n",
       "      <td>32.0</td>\n",
       "      <td>-2.711820e+08</td>\n",
       "      <td>5.202150e+08</td>\n",
       "      <td>23.0</td>\n",
       "      <td>...</td>\n",
       "      <td>3.184200e+09</td>\n",
       "      <td>2.559638e+09</td>\n",
       "      <td>1.210694e+09</td>\n",
       "      <td>3.403120e+09</td>\n",
       "      <td>4.613814e+09</td>\n",
       "      <td>6.205003e+09</td>\n",
       "      <td>-27095000.0</td>\n",
       "      <td>2012.0</td>\n",
       "      <td>5.29</td>\n",
       "      <td>7.328355e+07</td>\n",
       "    </tr>\n",
       "  </tbody>\n",
       "</table>\n",
       "<p>5 rows × 79 columns</p>\n",
       "</div>"
      ],
      "text/plain": [
       "   Unnamed: 0 Ticker Symbol Period Ending  Accounts Payable  \\\n",
       "0           0           AAL    2012-12-31      3.068000e+09   \n",
       "1           1           AAL    2013-12-31      4.975000e+09   \n",
       "2           2           AAL    2014-12-31      4.668000e+09   \n",
       "3           3           AAL    2015-12-31      5.102000e+09   \n",
       "4           4           AAP    2012-12-29      2.409453e+09   \n",
       "\n",
       "   Accounts Receivable  Add'l income/expense items  After Tax ROE  \\\n",
       "0         -222000000.0               -1.961000e+09           23.0   \n",
       "1          -93000000.0               -2.723000e+09           67.0   \n",
       "2         -160000000.0               -1.500000e+08          143.0   \n",
       "3          352000000.0               -7.080000e+08          135.0   \n",
       "4          -89482000.0                6.000000e+05           32.0   \n",
       "\n",
       "   Capital Expenditures  Capital Surplus  Cash Ratio  \\\n",
       "0         -1.888000e+09     4.695000e+09        53.0   \n",
       "1         -3.114000e+09     1.059200e+10        75.0   \n",
       "2         -5.311000e+09     1.513500e+10        60.0   \n",
       "3         -6.151000e+09     1.159100e+10        51.0   \n",
       "4         -2.711820e+08     5.202150e+08        23.0   \n",
       "\n",
       "               ...               Total Current Assets  \\\n",
       "0              ...                       7.072000e+09   \n",
       "1              ...                       1.432300e+10   \n",
       "2              ...                       1.175000e+10   \n",
       "3              ...                       9.985000e+09   \n",
       "4              ...                       3.184200e+09   \n",
       "\n",
       "   Total Current Liabilities  Total Equity  Total Liabilities  \\\n",
       "0               9.011000e+09 -7.987000e+09       2.489100e+10   \n",
       "1               1.380600e+10 -2.731000e+09       4.500900e+10   \n",
       "2               1.340400e+10  2.021000e+09       4.120400e+10   \n",
       "3               1.360500e+10  5.635000e+09       4.278000e+10   \n",
       "4               2.559638e+09  1.210694e+09       3.403120e+09   \n",
       "\n",
       "   Total Liabilities & Equity  Total Revenue  Treasury Stock  For Year  \\\n",
       "0                1.690400e+10   2.485500e+10    -367000000.0    2012.0   \n",
       "1                4.227800e+10   2.674300e+10             0.0    2013.0   \n",
       "2                4.322500e+10   4.265000e+10             0.0    2014.0   \n",
       "3                4.841500e+10   4.099000e+10             0.0    2015.0   \n",
       "4                4.613814e+09   6.205003e+09     -27095000.0    2012.0   \n",
       "\n",
       "   Earnings Per Share  Estimated Shares Outstanding  \n",
       "0               -5.60                  3.350000e+08  \n",
       "1              -11.25                  1.630222e+08  \n",
       "2                4.02                  7.169154e+08  \n",
       "3               11.39                  6.681299e+08  \n",
       "4                5.29                  7.328355e+07  \n",
       "\n",
       "[5 rows x 79 columns]"
      ]
     },
     "execution_count": 22,
     "metadata": {},
     "output_type": "execute_result"
    }
   ],
   "source": [
    "fundamentals = pd.read_csv(\"./fundamentals.csv\")\n",
    "fundamentals.head()"
   ]
  },
  {
   "cell_type": "markdown",
   "metadata": {},
   "source": [
    "# Looking for NaN Values"
   ]
  },
  {
   "cell_type": "code",
   "execution_count": 23,
   "metadata": {},
   "outputs": [
    {
     "data": {
      "text/plain": [
       "<matplotlib.axes._subplots.AxesSubplot at 0x7fa441985860>"
      ]
     },
     "execution_count": 23,
     "metadata": {},
     "output_type": "execute_result"
    },
    {
     "data": {
      "image/png": "[encoded data removed]",
      "text/plain": [
       "<Figure size 432x288 with 1 Axes>"
      ]
     },
     "metadata": {
      "needs_background": "light"
     },
     "output_type": "display_data"
    }
   ],
   "source": [
    "sns.heatmap(adjusted.isnull(),yticklabels=False,cbar=False,cmap='coolwarm')"
   ]
  },
  {
   "cell_type": "code",
   "execution_count": 24,
   "metadata": {},
   "outputs": [
    {
     "data": {
      "text/plain": [
       "<matplotlib.axes._subplots.AxesSubplot at 0x7fa4418a6390>"
      ]
     },
     "execution_count": 24,
     "metadata": {},
     "output_type": "execute_result"
    },
    {
     "data": {
      "image/png": "[encoded data removed]",
      "text/plain": [
       "<Figure size 432x288 with 1 Axes>"
      ]
     },
     "metadata": {
      "needs_background": "light"
     },
     "output_type": "display_data"
    }
   ],
   "source": [
    "sns.heatmap(fundamentals.isnull(),yticklabels=False,cbar=False,cmap='viridis')"
   ]
  },
  {
   "cell_type": "markdown",
   "metadata": {},
   "source": [
    "Let's get to work!"
   ]
  },
  {
   "cell_type": "markdown",
   "metadata": {},
   "source": [
    "# Extracting Symbols from List"
   ]
  },
  {
   "cell_type": "code",
   "execution_count": 25,
   "metadata": {},
   "outputs": [
    {
     "data": {
      "text/plain": [
       "501"
      ]
     },
     "execution_count": 25,
     "metadata": {},
     "output_type": "execute_result"
    }
   ],
   "source": [
    "symbols = list(set(adjusted.symbol))\n",
    "len(symbols)"
   ]
  },
  {
   "cell_type": "code",
   "execution_count": 26,
   "metadata": {},
   "outputs": [
    {
     "data": {
      "text/plain": [
       "['ECL',\n",
       " 'HON',\n",
       " 'RAI',\n",
       " 'BSX',\n",
       " 'COG',\n",
       " 'WLTW',\n",
       " 'CAH',\n",
       " 'KHC',\n",
       " 'DVA',\n",
       " 'GOOGL',\n",
       " 'DIS',\n",
       " 'DTE',\n",
       " 'FDX',\n",
       " 'AVGO',\n",
       " 'CSX']"
      ]
     },
     "execution_count": 26,
     "metadata": {},
     "output_type": "execute_result"
    }
   ],
   "source": [
    "symbols[:15] # Example of what is in symbols"
   ]
  },
  {
   "cell_type": "markdown",
   "metadata": {},
   "source": [
    "# Ralph Lauren as an Example"
   ]
  },
  {
   "cell_type": "code",
   "execution_count": 27,
   "metadata": {},
   "outputs": [
    {
     "data": {
      "text/html": [
       "<div>\n",
       "<style scoped>\n",
       "    .dataframe tbody tr th:only-of-type {\n",
       "        vertical-align: middle;\n",
       "    }\n",
       "\n",
       "    .dataframe tbody tr th {\n",
       "        vertical-align: top;\n",
       "    }\n",
       "\n",
       "    .dataframe thead th {\n",
       "        text-align: right;\n",
       "    }\n",
       "</style>\n",
       "<table border=\"1\" class=\"dataframe\">\n",
       "  <thead>\n",
       "    <tr style=\"text-align: right;\">\n",
       "      <th></th>\n",
       "      <th>open</th>\n",
       "      <th>low</th>\n",
       "      <th>high</th>\n",
       "      <th>volume</th>\n",
       "      <th>adj close</th>\n",
       "    </tr>\n",
       "    <tr>\n",
       "      <th>date</th>\n",
       "      <th></th>\n",
       "      <th></th>\n",
       "      <th></th>\n",
       "      <th></th>\n",
       "      <th></th>\n",
       "    </tr>\n",
       "  </thead>\n",
       "  <tbody>\n",
       "    <tr>\n",
       "      <th>2010-01-04</th>\n",
       "      <td>81.839996</td>\n",
       "      <td>80.180000</td>\n",
       "      <td>81.900002</td>\n",
       "      <td>899700.0</td>\n",
       "      <td>81.559998</td>\n",
       "    </tr>\n",
       "    <tr>\n",
       "      <th>2010-01-05</th>\n",
       "      <td>81.370003</td>\n",
       "      <td>80.830002</td>\n",
       "      <td>84.989998</td>\n",
       "      <td>2044900.0</td>\n",
       "      <td>84.760002</td>\n",
       "    </tr>\n",
       "    <tr>\n",
       "      <th>2010-01-06</th>\n",
       "      <td>84.739998</td>\n",
       "      <td>83.779999</td>\n",
       "      <td>85.230003</td>\n",
       "      <td>873000.0</td>\n",
       "      <td>84.120003</td>\n",
       "    </tr>\n",
       "    <tr>\n",
       "      <th>2010-01-07</th>\n",
       "      <td>84.150002</td>\n",
       "      <td>84.120003</td>\n",
       "      <td>86.489998</td>\n",
       "      <td>1106900.0</td>\n",
       "      <td>85.739998</td>\n",
       "    </tr>\n",
       "    <tr>\n",
       "      <th>2010-01-08</th>\n",
       "      <td>85.300003</td>\n",
       "      <td>84.720001</td>\n",
       "      <td>86.489998</td>\n",
       "      <td>1202100.0</td>\n",
       "      <td>86.370003</td>\n",
       "    </tr>\n",
       "  </tbody>\n",
       "</table>\n",
       "</div>"
      ],
      "text/plain": [
       "                 open        low       high     volume  adj close\n",
       "date                                                             \n",
       "2010-01-04  81.839996  80.180000  81.900002   899700.0  81.559998\n",
       "2010-01-05  81.370003  80.830002  84.989998  2044900.0  84.760002\n",
       "2010-01-06  84.739998  83.779999  85.230003   873000.0  84.120003\n",
       "2010-01-07  84.150002  84.120003  86.489998  1106900.0  85.739998\n",
       "2010-01-08  85.300003  84.720001  86.489998  1202100.0  86.370003"
      ]
     },
     "execution_count": 27,
     "metadata": {},
     "output_type": "execute_result"
    }
   ],
   "source": [
    "adjusted = adjusted[adjusted.symbol == 'RL']\n",
    "adjusted.drop(['symbol'],1,inplace=True)\n",
    "adjusted.head()"
   ]
  },
  {
   "cell_type": "markdown",
   "metadata": {},
   "source": [
    "# Normalize the Data"
   ]
  },
  {
   "cell_type": "code",
   "execution_count": 28,
   "metadata": {},
   "outputs": [
    {
     "data": {
      "text/html": [
       "<div>\n",
       "<style scoped>\n",
       "    .dataframe tbody tr th:only-of-type {\n",
       "        vertical-align: middle;\n",
       "    }\n",
       "\n",
       "    .dataframe tbody tr th {\n",
       "        vertical-align: top;\n",
       "    }\n",
       "\n",
       "    .dataframe thead th {\n",
       "        text-align: right;\n",
       "    }\n",
       "</style>\n",
       "<table border=\"1\" class=\"dataframe\">\n",
       "  <thead>\n",
       "    <tr style=\"text-align: right;\">\n",
       "      <th></th>\n",
       "      <th>open</th>\n",
       "      <th>low</th>\n",
       "      <th>high</th>\n",
       "      <th>volume</th>\n",
       "      <th>adj close</th>\n",
       "    </tr>\n",
       "    <tr>\n",
       "      <th>date</th>\n",
       "      <th></th>\n",
       "      <th></th>\n",
       "      <th></th>\n",
       "      <th></th>\n",
       "      <th></th>\n",
       "    </tr>\n",
       "  </thead>\n",
       "  <tbody>\n",
       "    <tr>\n",
       "      <th>2010-01-04</th>\n",
       "      <td>0.086938</td>\n",
       "      <td>0.077575</td>\n",
       "      <td>0.066774</td>\n",
       "      <td>0.069055</td>\n",
       "      <td>0.081867</td>\n",
       "    </tr>\n",
       "    <tr>\n",
       "      <th>2010-01-05</th>\n",
       "      <td>0.082944</td>\n",
       "      <td>0.083141</td>\n",
       "      <td>0.092958</td>\n",
       "      <td>0.169835</td>\n",
       "      <td>0.109071</td>\n",
       "    </tr>\n",
       "    <tr>\n",
       "      <th>2010-01-06</th>\n",
       "      <td>0.111583</td>\n",
       "      <td>0.108400</td>\n",
       "      <td>0.094992</td>\n",
       "      <td>0.066705</td>\n",
       "      <td>0.103630</td>\n",
       "    </tr>\n",
       "    <tr>\n",
       "      <th>2010-01-07</th>\n",
       "      <td>0.106569</td>\n",
       "      <td>0.111311</td>\n",
       "      <td>0.105669</td>\n",
       "      <td>0.087289</td>\n",
       "      <td>0.117402</td>\n",
       "    </tr>\n",
       "    <tr>\n",
       "      <th>2010-01-08</th>\n",
       "      <td>0.116342</td>\n",
       "      <td>0.116448</td>\n",
       "      <td>0.105669</td>\n",
       "      <td>0.095667</td>\n",
       "      <td>0.122758</td>\n",
       "    </tr>\n",
       "  </tbody>\n",
       "</table>\n",
       "</div>"
      ],
      "text/plain": [
       "                open       low      high    volume  adj close\n",
       "date                                                         \n",
       "2010-01-04  0.086938  0.077575  0.066774  0.069055   0.081867\n",
       "2010-01-05  0.082944  0.083141  0.092958  0.169835   0.109071\n",
       "2010-01-06  0.111583  0.108400  0.094992  0.066705   0.103630\n",
       "2010-01-07  0.106569  0.111311  0.105669  0.087289   0.117402\n",
       "2010-01-08  0.116342  0.116448  0.105669  0.095667   0.122758"
      ]
     },
     "execution_count": 28,
     "metadata": {},
     "output_type": "execute_result"
    }
   ],
   "source": [
    "def normalize_data(adjusted):\n",
    "    min_max_scaler = preprocessing.MinMaxScaler()\n",
    "    adjusted['open'] = min_max_scaler.fit_transform(adjusted.open.values.reshape(-1,1))\n",
    "    adjusted['high'] = min_max_scaler.fit_transform(adjusted.high.values.reshape(-1,1))\n",
    "    adjusted['low'] = min_max_scaler.fit_transform(adjusted.low.values.reshape(-1,1))\n",
    "    adjusted['volume'] = min_max_scaler.fit_transform(adjusted.volume.values.reshape(-1,1))\n",
    "    adjusted['adj close'] = min_max_scaler.fit_transform(adjusted['adj close'].values.reshape(-1,1))\n",
    "    return adjusted\n",
    "adjusted = normalize_data(adjusted)\n",
    "adjusted.head()"
   ]
  },
  {
   "cell_type": "markdown",
   "metadata": {},
   "source": [
    "# Creating the Train Test Split"
   ]
  },
  {
   "cell_type": "code",
   "execution_count": 30,
   "metadata": {},
   "outputs": [],
   "source": [
    "def load_data(stock, seq_len):\n",
    "    amount_of_features = len(stock.columns) # 5\n",
    "    data = stock.as_matrix() \n",
    "    sequence_length = seq_len + 1 # index starting from 0\n",
    "    result = []\n",
    "    \n",
    "    for index in range(len(data) - sequence_length): # maxmimum date = lastest date - sequence length\n",
    "        result.append(data[index: index + sequence_length]) # index : index + 30 days\n",
    "    \n",
    "    result = np.array(result)\n",
    "    row = round(0.8 * result.shape[0]) # 80% split\n",
    "    train = result[:int(row), :] # 80% date, all features \n",
    "    \n",
    "    x_train = train[:, :-1] \n",
    "    y_train = train[:, -1][:,-1]\n",
    "    \n",
    "    x_test = result[int(row):, :-1] \n",
    "    y_test = result[int(row):, -1][:,-1]\n",
    "\n",
    "    x_train = np.reshape(x_train, (x_train.shape[0], x_train.shape[1], amount_of_features))\n",
    "    x_test = np.reshape(x_test, (x_test.shape[0], x_test.shape[1], amount_of_features))  \n",
    "\n",
    "    return [x_train, y_train, x_test, y_test]"
   ]
  },
  {
   "cell_type": "markdown",
   "metadata": {},
   "source": [
    "# Building Layers"
   ]
  },
  {
   "cell_type": "code",
   "execution_count": 31,
   "metadata": {},
   "outputs": [],
   "source": [
    "def build_model(layers):\n",
    "    d = 0.3\n",
    "    model = Sequential()\n",
    "    \n",
    "    model.add(LSTM(256, input_shape=(layers[1], layers[0]), return_sequences=True))\n",
    "    model.add(Dropout(d))\n",
    "        \n",
    "    model.add(LSTM(256, input_shape=(layers[1], layers[0]), return_sequences=False))\n",
    "    model.add(Dropout(d))\n",
    "        \n",
    "    model.add(Dense(32,kernel_initializer=\"uniform\",activation='relu'))        \n",
    "    model.add(Dense(1,kernel_initializer=\"uniform\",activation='linear'))\n",
    "    \n",
    "    # adam = keras.optimizers.Adam(decay=0.2)\n",
    "        \n",
    "    start = time.time()\n",
    "    model.compile(loss='mse',optimizer='adam', metrics=['accuracy'])\n",
    "    print(\"Compilation Time : \", time.time() - start)\n",
    "    return model"
   ]
  },
  {
   "cell_type": "markdown",
   "metadata": {},
   "source": [
    "# Training the Model"
   ]
  },
  {
   "cell_type": "code",
   "execution_count": 32,
   "metadata": {},
   "outputs": [
    {
     "name": "stdout",
     "output_type": "stream",
     "text": [
      "[[0.08693801 0.07757511 0.06677404 0.06905504 0.08186686]\n",
      " [0.08294384 0.08314067 0.09295823 0.16983473 0.10907083]\n",
      " [0.11158322 0.10839966 0.094992   0.06670539 0.10363005]\n",
      " [0.10656923 0.1113109  0.10566902 0.08728902 0.11740201]\n",
      " [0.11634233 0.11644831 0.10566902 0.09566679 0.12275783]\n",
      " [0.12637038 0.11876012 0.1097365  0.08620659 0.11587179]\n",
      " [0.11362286 0.10343346 0.09863577 0.06618618 0.10107966]\n",
      " [0.10741905 0.10822843 0.10126264 0.0626749  0.11706195]\n",
      " [0.11515257 0.11593459 0.09846625 0.0336079  0.11204626]\n",
      " [0.10962863 0.1006935  0.09753412 0.07590158 0.10116469]\n",
      " [0.10444464 0.10874216 0.09253457 0.04232888 0.1091558 ]\n",
      " [0.10631429 0.10822843 0.10583853 0.16130736 0.12301286]\n",
      " [0.12433073 0.11113961 0.10956698 0.10490698 0.1066905 ]\n",
      " [0.11039345 0.09213112 0.09295823 0.07924565 0.08594747]\n",
      " [0.09492647 0.09332986 0.07965427 0.06199729 0.09215334]\n",
      " [0.092292   0.09358678 0.08126433 0.04855061 0.09045312]\n",
      " [0.09178213 0.09110368 0.07863745 0.04049844 0.09419368]\n",
      " [0.09858076 0.0909324  0.08041695 0.06682859 0.0849273 ]\n",
      " [0.0893176  0.09084682 0.08778917 0.13789007 0.08560741]\n",
      " [0.09509647 0.09855291 0.08177274 0.05963004 0.09529881]\n",
      " [0.10113029 0.10197787 0.10388952 0.1154232  0.11680692]\n",
      " [0.06662697 0.04949053 0.06092706 0.68348382 0.05593813]\n",
      " [0.05133    0.04931924 0.03804766 0.22681592 0.04429141]\n",
      " [0.0490354  0.03373572 0.03008222 0.26351268 0.04012584]\n",
      " [0.04155689 0.0429831  0.04194563 0.15255117 0.048457  ]\n",
      " [0.05676893 0.06002221 0.04592835 0.12314096 0.05661818]\n",
      " [0.05931839 0.05582666 0.0455894  0.08955066 0.05151745]\n",
      " [0.05251976 0.05693975 0.04508092 0.09496278 0.06035874]\n",
      " [0.05472935 0.05676853 0.04033558 0.06982065 0.05746835]\n",
      " [0.06305769 0.05890913 0.04872468 0.086453   0.06622461]] 0.07115534423455483\n"
     ]
    },
    {
     "name": "stderr",
     "output_type": "stream",
     "text": [
      "/home/atse/miniconda3/lib/python3.6/site-packages/ipykernel_launcher.py:3: FutureWarning: Method .as_matrix will be removed in a future version. Use .values instead.\n",
      "  This is separate from the ipykernel package so we can avoid doing imports until\n"
     ]
    }
   ],
   "source": [
    "window = 30\n",
    "X_train, y_train, X_test, y_test = load_data(adjusted, window)\n",
    "print (X_train[0], y_train[0])"
   ]
  },
  {
   "cell_type": "code",
   "execution_count": 33,
   "metadata": {},
   "outputs": [
    {
     "name": "stdout",
     "output_type": "stream",
     "text": [
      "Compilation Time :  0.10014891624450684\n"
     ]
    }
   ],
   "source": [
    "model = build_model([5,window,1])"
   ]
  },
  {
   "cell_type": "code",
   "execution_count": 34,
   "metadata": {},
   "outputs": [
    {
     "name": "stdout",
     "output_type": "stream",
     "text": [
      "Train on 1246 samples, validate on 139 samples\n",
      "Epoch 1/100\n",
      "1246/1246 [==============================] - 31s 25ms/step - loss: 0.4214 - acc: 8.0257e-04 - val_loss: 0.1629 - val_acc: 0.0000e+00\n",
      "Epoch 2/100\n",
      "1246/1246 [==============================] - 14s 11ms/step - loss: 0.1764 - acc: 8.0257e-04 - val_loss: 0.0830 - val_acc: 0.0000e+00\n",
      "Epoch 3/100\n",
      "1246/1246 [==============================] - 12s 9ms/step - loss: 0.0906 - acc: 8.0257e-04 - val_loss: 0.0482 - val_acc: 0.0000e+00\n",
      "Epoch 4/100\n",
      "1246/1246 [==============================] - 13s 11ms/step - loss: 0.0640 - acc: 8.0257e-04 - val_loss: 0.0043 - val_acc: 0.0000e+00\n",
      "Epoch 5/100\n",
      "1246/1246 [==============================] - 12s 10ms/step - loss: 0.0675 - acc: 8.0257e-04 - val_loss: 0.0045 - val_acc: 0.0000e+00\n",
      "Epoch 6/100\n",
      "1246/1246 [==============================] - 11s 9ms/step - loss: 0.0577 - acc: 0.0016 - val_loss: 0.0063 - val_acc: 0.0000e+00\n",
      "Epoch 7/100\n",
      "1246/1246 [==============================] - 14s 11ms/step - loss: 0.0259 - acc: 0.0016 - val_loss: 0.0336 - val_acc: 0.0000e+00\n",
      "Epoch 8/100\n",
      "1246/1246 [==============================] - 11s 9ms/step - loss: 0.0109 - acc: 0.0016 - val_loss: 0.0051 - val_acc: 0.0000e+00\n",
      "Epoch 9/100\n",
      "1246/1246 [==============================] - 14s 11ms/step - loss: 0.0102 - acc: 0.0016 - val_loss: 0.0203 - val_acc: 0.0000e+00\n",
      "Epoch 10/100\n",
      "1246/1246 [==============================] - 12s 9ms/step - loss: 0.0105 - acc: 0.0016 - val_loss: 0.0068 - val_acc: 0.0000e+00\n",
      "Epoch 11/100\n",
      "1246/1246 [==============================] - 12s 9ms/step - loss: 0.0080 - acc: 0.0016 - val_loss: 0.0164 - val_acc: 0.0000e+00\n",
      "Epoch 12/100\n",
      "1246/1246 [==============================] - 14s 11ms/step - loss: 0.0060 - acc: 0.0016 - val_loss: 0.0051 - val_acc: 0.0000e+00\n",
      "Epoch 13/100\n",
      "1246/1246 [==============================] - 12s 9ms/step - loss: 0.0056 - acc: 0.0016 - val_loss: 0.0122 - val_acc: 0.0000e+00\n",
      "Epoch 14/100\n",
      "1246/1246 [==============================] - 11s 9ms/step - loss: 0.0057 - acc: 0.0016 - val_loss: 0.0113 - val_acc: 0.0000e+00\n",
      "Epoch 15/100\n",
      "1246/1246 [==============================] - 12s 10ms/step - loss: 0.0054 - acc: 0.0016 - val_loss: 0.0061 - val_acc: 0.0000e+00\n",
      "Epoch 16/100\n",
      "1246/1246 [==============================] - 12s 9ms/step - loss: 0.0046 - acc: 0.0016 - val_loss: 0.0088 - val_acc: 0.0000e+00\n",
      "Epoch 17/100\n",
      "1246/1246 [==============================] - 12s 10ms/step - loss: 0.0040 - acc: 0.0016 - val_loss: 0.0047 - val_acc: 0.0000e+00\n",
      "Epoch 18/100\n",
      "1246/1246 [==============================] - 12s 10ms/step - loss: 0.0037 - acc: 0.0016 - val_loss: 0.0052 - val_acc: 0.0000e+00\n",
      "Epoch 19/100\n",
      "1246/1246 [==============================] - 12s 10ms/step - loss: 0.0039 - acc: 0.0016 - val_loss: 0.0044 - val_acc: 0.0000e+00\n",
      "Epoch 20/100\n",
      "1246/1246 [==============================] - 13s 11ms/step - loss: 0.0037 - acc: 0.0016 - val_loss: 0.0046 - val_acc: 0.0000e+00\n",
      "Epoch 21/100\n",
      "1246/1246 [==============================] - 9s 7ms/step - loss: 0.0035 - acc: 0.0016 - val_loss: 0.0042 - val_acc: 0.0000e+00\n",
      "Epoch 22/100\n",
      "1246/1246 [==============================] - 6s 5ms/step - loss: 0.0036 - acc: 0.0016 - val_loss: 0.0044 - val_acc: 0.0000e+00\n",
      "Epoch 23/100\n",
      "1246/1246 [==============================] - 6s 5ms/step - loss: 0.0034 - acc: 0.0016 - val_loss: 0.0045 - val_acc: 0.0000e+00\n",
      "Epoch 24/100\n",
      "1246/1246 [==============================] - 6s 5ms/step - loss: 0.0032 - acc: 0.0016 - val_loss: 0.0040 - val_acc: 0.0000e+00\n",
      "Epoch 25/100\n",
      "1246/1246 [==============================] - 6s 5ms/step - loss: 0.0033 - acc: 0.0016 - val_loss: 0.0044 - val_acc: 0.0000e+00\n",
      "Epoch 26/100\n",
      "1246/1246 [==============================] - 6s 5ms/step - loss: 0.0032 - acc: 0.0016 - val_loss: 0.0051 - val_acc: 0.0000e+00\n",
      "Epoch 27/100\n",
      "1246/1246 [==============================] - 6s 5ms/step - loss: 0.0035 - acc: 0.0016 - val_loss: 0.0029 - val_acc: 0.0000e+00\n",
      "Epoch 28/100\n",
      "1246/1246 [==============================] - 6s 5ms/step - loss: 0.0033 - acc: 0.0016 - val_loss: 0.0040 - val_acc: 0.0000e+00\n",
      "Epoch 29/100\n",
      "1246/1246 [==============================] - 6s 5ms/step - loss: 0.0032 - acc: 0.0016 - val_loss: 0.0038 - val_acc: 0.0000e+00\n",
      "Epoch 30/100\n",
      "1246/1246 [==============================] - 6s 5ms/step - loss: 0.0033 - acc: 0.0016 - val_loss: 0.0028 - val_acc: 0.0000e+00\n",
      "Epoch 31/100\n",
      "1246/1246 [==============================] - 6s 5ms/step - loss: 0.0033 - acc: 0.0016 - val_loss: 0.0047 - val_acc: 0.0000e+00\n",
      "Epoch 32/100\n",
      "1246/1246 [==============================] - 6s 5ms/step - loss: 0.0033 - acc: 0.0016 - val_loss: 0.0028 - val_acc: 0.0000e+00\n",
      "Epoch 33/100\n",
      "1246/1246 [==============================] - 6s 5ms/step - loss: 0.0031 - acc: 0.0016 - val_loss: 0.0040 - val_acc: 0.0000e+00\n",
      "Epoch 34/100\n",
      "1246/1246 [==============================] - 6s 5ms/step - loss: 0.0032 - acc: 0.0016 - val_loss: 0.0034 - val_acc: 0.0000e+00\n",
      "Epoch 35/100\n",
      "1246/1246 [==============================] - 6s 5ms/step - loss: 0.0029 - acc: 0.0016 - val_loss: 0.0031 - val_acc: 0.0000e+00\n",
      "Epoch 36/100\n",
      "1246/1246 [==============================] - 6s 5ms/step - loss: 0.0032 - acc: 0.0016 - val_loss: 0.0043 - val_acc: 0.0000e+00\n",
      "Epoch 37/100\n",
      "1246/1246 [==============================] - 6s 5ms/step - loss: 0.0030 - acc: 0.0016 - val_loss: 0.0023 - val_acc: 0.0000e+00\n",
      "Epoch 38/100\n",
      "1246/1246 [==============================] - 6s 5ms/step - loss: 0.0031 - acc: 0.0016 - val_loss: 0.0042 - val_acc: 0.0000e+00\n",
      "Epoch 39/100\n",
      "1246/1246 [==============================] - 6s 5ms/step - loss: 0.0029 - acc: 0.0016 - val_loss: 0.0029 - val_acc: 0.0000e+00\n",
      "Epoch 40/100\n",
      "1246/1246 [==============================] - 6s 5ms/step - loss: 0.0029 - acc: 0.0016 - val_loss: 0.0029 - val_acc: 0.0000e+00\n",
      "Epoch 41/100\n",
      "1246/1246 [==============================] - 6s 5ms/step - loss: 0.0029 - acc: 0.0016 - val_loss: 0.0037 - val_acc: 0.0000e+00\n",
      "Epoch 42/100\n",
      "1246/1246 [==============================] - 6s 5ms/step - loss: 0.0029 - acc: 0.0016 - val_loss: 0.0030 - val_acc: 0.0000e+00\n",
      "Epoch 43/100\n",
      "1246/1246 [==============================] - 6s 5ms/step - loss: 0.0028 - acc: 0.0016 - val_loss: 0.0032 - val_acc: 0.0000e+00\n",
      "Epoch 44/100\n",
      "1246/1246 [==============================] - 6s 5ms/step - loss: 0.0029 - acc: 0.0016 - val_loss: 0.0031 - val_acc: 0.0000e+00\n",
      "Epoch 45/100\n",
      "1246/1246 [==============================] - 6s 5ms/step - loss: 0.0026 - acc: 0.0016 - val_loss: 0.0028 - val_acc: 0.0000e+00\n",
      "Epoch 46/100\n",
      "1246/1246 [==============================] - 6s 5ms/step - loss: 0.0025 - acc: 0.0016 - val_loss: 0.0025 - val_acc: 0.0000e+00\n",
      "Epoch 47/100\n",
      "1246/1246 [==============================] - 6s 5ms/step - loss: 0.0027 - acc: 0.0016 - val_loss: 0.0029 - val_acc: 0.0000e+00\n",
      "Epoch 48/100\n",
      "1246/1246 [==============================] - 6s 5ms/step - loss: 0.0026 - acc: 0.0016 - val_loss: 0.0025 - val_acc: 0.0000e+00\n",
      "Epoch 49/100\n",
      "1246/1246 [==============================] - 6s 5ms/step - loss: 0.0026 - acc: 0.0016 - val_loss: 0.0031 - val_acc: 0.0000e+00\n",
      "Epoch 50/100\n",
      "1246/1246 [==============================] - 6s 5ms/step - loss: 0.0028 - acc: 0.0016 - val_loss: 0.0027 - val_acc: 0.0000e+00\n",
      "Epoch 51/100\n",
      "1246/1246 [==============================] - 6s 5ms/step - loss: 0.0027 - acc: 0.0016 - val_loss: 0.0024 - val_acc: 0.0000e+00\n",
      "Epoch 52/100\n",
      "1246/1246 [==============================] - 6s 5ms/step - loss: 0.0026 - acc: 0.0016 - val_loss: 0.0023 - val_acc: 0.0000e+00\n",
      "Epoch 53/100\n",
      "1246/1246 [==============================] - 6s 5ms/step - loss: 0.0027 - acc: 0.0016 - val_loss: 0.0025 - val_acc: 0.0000e+00\n",
      "Epoch 54/100\n",
      "1246/1246 [==============================] - 6s 5ms/step - loss: 0.0028 - acc: 0.0016 - val_loss: 0.0030 - val_acc: 0.0000e+00\n",
      "Epoch 55/100\n",
      "1246/1246 [==============================] - 6s 5ms/step - loss: 0.0026 - acc: 0.0016 - val_loss: 0.0033 - val_acc: 0.0000e+00\n",
      "Epoch 56/100\n",
      "1246/1246 [==============================] - 6s 5ms/step - loss: 0.0026 - acc: 0.0016 - val_loss: 0.0021 - val_acc: 0.0000e+00\n",
      "Epoch 57/100\n",
      "1246/1246 [==============================] - 6s 5ms/step - loss: 0.0027 - acc: 0.0016 - val_loss: 0.0023 - val_acc: 0.0000e+00\n",
      "Epoch 58/100\n",
      "1246/1246 [==============================] - 6s 5ms/step - loss: 0.0027 - acc: 0.0016 - val_loss: 0.0028 - val_acc: 0.0000e+00\n"
     ]
    },
    {
     "name": "stdout",
     "output_type": "stream",
     "text": [
      "Epoch 59/100\n",
      "1246/1246 [==============================] - 6s 5ms/step - loss: 0.0028 - acc: 0.0016 - val_loss: 0.0035 - val_acc: 0.0000e+00\n",
      "Epoch 60/100\n",
      "1246/1246 [==============================] - 6s 5ms/step - loss: 0.0027 - acc: 0.0016 - val_loss: 0.0030 - val_acc: 0.0000e+00\n",
      "Epoch 61/100\n",
      "1246/1246 [==============================] - 6s 5ms/step - loss: 0.0027 - acc: 0.0016 - val_loss: 0.0020 - val_acc: 0.0000e+00\n",
      "Epoch 62/100\n",
      "1246/1246 [==============================] - 6s 5ms/step - loss: 0.0027 - acc: 0.0016 - val_loss: 0.0035 - val_acc: 0.0000e+00\n",
      "Epoch 63/100\n",
      "1246/1246 [==============================] - 6s 5ms/step - loss: 0.0029 - acc: 0.0016 - val_loss: 0.0031 - val_acc: 0.0000e+00\n",
      "Epoch 64/100\n",
      "1246/1246 [==============================] - 13s 11ms/step - loss: 0.0026 - acc: 0.0016 - val_loss: 0.0020 - val_acc: 0.0000e+00\n",
      "Epoch 65/100\n",
      "1246/1246 [==============================] - 7s 6ms/step - loss: 0.0028 - acc: 0.0016 - val_loss: 0.0025 - val_acc: 0.0000e+00\n",
      "Epoch 66/100\n",
      "1246/1246 [==============================] - 7s 5ms/step - loss: 0.0025 - acc: 0.0016 - val_loss: 0.0044 - val_acc: 0.0000e+00\n",
      "Epoch 67/100\n",
      "1246/1246 [==============================] - 12s 9ms/step - loss: 0.0029 - acc: 0.0016 - val_loss: 0.0022 - val_acc: 0.0000e+00\n",
      "Epoch 68/100\n",
      "1246/1246 [==============================] - 14s 12ms/step - loss: 0.0028 - acc: 0.0016 - val_loss: 0.0020 - val_acc: 0.0000e+00\n",
      "Epoch 69/100\n",
      "1246/1246 [==============================] - 6s 5ms/step - loss: 0.0028 - acc: 0.0016 - val_loss: 0.0030 - val_acc: 0.0000e+00\n",
      "Epoch 70/100\n",
      "1246/1246 [==============================] - 6s 5ms/step - loss: 0.0026 - acc: 0.0016 - val_loss: 0.0033 - val_acc: 0.0000e+00\n",
      "Epoch 71/100\n",
      "1246/1246 [==============================] - 6s 5ms/step - loss: 0.0024 - acc: 0.0016 - val_loss: 0.0021 - val_acc: 0.0000e+00\n",
      "Epoch 72/100\n",
      "1246/1246 [==============================] - 6s 5ms/step - loss: 0.0026 - acc: 0.0016 - val_loss: 0.0021 - val_acc: 0.0000e+00\n",
      "Epoch 73/100\n",
      "1246/1246 [==============================] - 6s 5ms/step - loss: 0.0026 - acc: 0.0016 - val_loss: 0.0023 - val_acc: 0.0000e+00\n",
      "Epoch 74/100\n",
      "1246/1246 [==============================] - 6s 5ms/step - loss: 0.0024 - acc: 0.0016 - val_loss: 0.0031 - val_acc: 0.0000e+00\n",
      "Epoch 75/100\n",
      "1246/1246 [==============================] - 6s 5ms/step - loss: 0.0025 - acc: 0.0016 - val_loss: 0.0023 - val_acc: 0.0000e+00\n",
      "Epoch 76/100\n",
      "1246/1246 [==============================] - 6s 5ms/step - loss: 0.0026 - acc: 0.0016 - val_loss: 0.0020 - val_acc: 0.0000e+00\n",
      "Epoch 77/100\n",
      "1246/1246 [==============================] - 7s 5ms/step - loss: 0.0025 - acc: 0.0016 - val_loss: 0.0034 - val_acc: 0.0000e+00\n",
      "Epoch 78/100\n",
      "1246/1246 [==============================] - 6s 5ms/step - loss: 0.0026 - acc: 0.0016 - val_loss: 0.0023 - val_acc: 0.0000e+00\n",
      "Epoch 79/100\n",
      "1246/1246 [==============================] - 6s 5ms/step - loss: 0.0024 - acc: 0.0016 - val_loss: 0.0022 - val_acc: 0.0000e+00\n",
      "Epoch 80/100\n",
      "1246/1246 [==============================] - 6s 5ms/step - loss: 0.0024 - acc: 0.0016 - val_loss: 0.0030 - val_acc: 0.0000e+00\n",
      "Epoch 81/100\n",
      "1246/1246 [==============================] - 6s 5ms/step - loss: 0.0023 - acc: 0.0016 - val_loss: 0.0026 - val_acc: 0.0000e+00\n",
      "Epoch 82/100\n",
      "1246/1246 [==============================] - 6s 5ms/step - loss: 0.0023 - acc: 0.0016 - val_loss: 0.0020 - val_acc: 0.0000e+00\n",
      "Epoch 83/100\n",
      "1246/1246 [==============================] - 6s 5ms/step - loss: 0.0023 - acc: 0.0016 - val_loss: 0.0028 - val_acc: 0.0000e+00\n",
      "Epoch 84/100\n",
      "1246/1246 [==============================] - 6s 5ms/step - loss: 0.0024 - acc: 0.0016 - val_loss: 0.0032 - val_acc: 0.0000e+00\n",
      "Epoch 85/100\n",
      "1246/1246 [==============================] - 15s 12ms/step - loss: 0.0026 - acc: 0.0016 - val_loss: 0.0020 - val_acc: 0.0000e+00\n",
      "Epoch 86/100\n",
      "1246/1246 [==============================] - 7s 6ms/step - loss: 0.0025 - acc: 0.0016 - val_loss: 0.0020 - val_acc: 0.0000e+00\n",
      "Epoch 87/100\n",
      "1246/1246 [==============================] - 7s 6ms/step - loss: 0.0024 - acc: 0.0016 - val_loss: 0.0028 - val_acc: 0.0000e+00\n",
      "Epoch 88/100\n",
      "1246/1246 [==============================] - 7s 5ms/step - loss: 0.0024 - acc: 0.0016 - val_loss: 0.0024 - val_acc: 0.0000e+00\n",
      "Epoch 89/100\n",
      "1246/1246 [==============================] - 7s 6ms/step - loss: 0.0023 - acc: 0.0016 - val_loss: 0.0022 - val_acc: 0.0000e+00\n",
      "Epoch 90/100\n",
      "1246/1246 [==============================] - 7s 6ms/step - loss: 0.0026 - acc: 0.0016 - val_loss: 0.0019 - val_acc: 0.0000e+00\n",
      "Epoch 91/100\n",
      "1246/1246 [==============================] - 7s 5ms/step - loss: 0.0027 - acc: 0.0016 - val_loss: 0.0037 - val_acc: 0.0000e+00\n",
      "Epoch 92/100\n",
      "1246/1246 [==============================] - 7s 5ms/step - loss: 0.0025 - acc: 0.0016 - val_loss: 0.0028 - val_acc: 0.0000e+00\n",
      "Epoch 93/100\n",
      "1246/1246 [==============================] - 7s 5ms/step - loss: 0.0024 - acc: 0.0016 - val_loss: 0.0019 - val_acc: 0.0000e+00\n",
      "Epoch 94/100\n",
      "1246/1246 [==============================] - 7s 6ms/step - loss: 0.0027 - acc: 0.0016 - val_loss: 0.0026 - val_acc: 0.0000e+00\n",
      "Epoch 95/100\n",
      "1246/1246 [==============================] - 7s 6ms/step - loss: 0.0026 - acc: 0.0016 - val_loss: 0.0040 - val_acc: 0.0000e+00\n",
      "Epoch 96/100\n",
      "1246/1246 [==============================] - 7s 6ms/step - loss: 0.0025 - acc: 0.0016 - val_loss: 0.0021 - val_acc: 0.0000e+00\n",
      "Epoch 97/100\n",
      "1246/1246 [==============================] - 7s 5ms/step - loss: 0.0027 - acc: 0.0016 - val_loss: 0.0021 - val_acc: 0.0000e+00\n",
      "Epoch 98/100\n",
      "1246/1246 [==============================] - 7s 6ms/step - loss: 0.0024 - acc: 0.0016 - val_loss: 0.0035 - val_acc: 0.0000e+00\n",
      "Epoch 99/100\n",
      "1246/1246 [==============================] - 7s 6ms/step - loss: 0.0022 - acc: 0.0016 - val_loss: 0.0023 - val_acc: 0.0000e+00\n",
      "Epoch 100/100\n",
      "1246/1246 [==============================] - 7s 6ms/step - loss: 0.0024 - acc: 0.0016 - val_loss: 0.0020 - val_acc: 0.0000e+00\n"
     ]
    },
    {
     "data": {
      "text/plain": [
       "<keras.callbacks.History at 0x7fa44038ac88>"
      ]
     },
     "execution_count": 34,
     "metadata": {},
     "output_type": "execute_result"
    }
   ],
   "source": [
    "model.fit(X_train,y_train,batch_size=512,epochs=100,validation_split=0.1,verbose=1)"
   ]
  },
  {
   "cell_type": "code",
   "execution_count": 35,
   "metadata": {},
   "outputs": [
    {
     "name": "stdout",
     "output_type": "stream",
     "text": [
      "(346, 1)\n"
     ]
    }
   ],
   "source": [
    "# print(X_test[-1])\n",
    "diff=[]\n",
    "ratio=[]\n",
    "p = model.predict(X_test)\n",
    "print (p.shape)\n",
    "# for each data index in test data\n",
    "for u in range(len(y_test)):\n",
    "    # pr = prediction day u\n",
    "    pr = p[u][0]\n",
    "    # (y_test day u / pr) - 1\n",
    "    ratio.append((y_test[u]/pr)-1)\n",
    "    diff.append(abs(y_test[u]- pr))\n",
    "    # print(u, y_test[u], pr, (y_test[u]/pr)-1, abs(y_test[u]- pr))\n",
    "    # Last day prediction\n",
    "    # print(p[-1]) "
   ]
  },
  {
   "cell_type": "markdown",
   "metadata": {},
   "source": [
    "# Denormalize the Data"
   ]
  },
  {
   "cell_type": "code",
   "execution_count": 36,
   "metadata": {},
   "outputs": [],
   "source": [
    "adj2 = pd.read_csv(\"./prices-split-adjusted.csv\", index_col = 0)\n",
    "adj2[\"adj close\"] = adj2.close # Moving close to the last column\n",
    "adj2.drop(['close'], 1, inplace=True) # Moving close to the last column\n",
    "adj2 = adj2[adj2.symbol == 'RL']\n",
    "adj2.drop(['symbol'],1,inplace=True)\n",
    "\n",
    "# Bug fixed at here, please update the denormalize function to this one\n",
    "def denormalize(adj2, normalized_value): \n",
    "    adj2 = adj2['adj close'].values.reshape(-1,1)\n",
    "    normalized_value = normalized_value.reshape(-1,1)\n",
    "    \n",
    "    #return df.shape, p.shape\n",
    "    min_max_scaler = preprocessing.MinMaxScaler()\n",
    "    a = min_max_scaler.fit_transform(adj2)\n",
    "    new = min_max_scaler.inverse_transform(normalized_value)\n",
    "    return new\n",
    "\n",
    "newp = denormalize(adj2, p)\n",
    "newy_test = denormalize(adj2, y_test)"
   ]
  },
  {
   "cell_type": "markdown",
   "metadata": {},
   "source": [
    "# Creating a Model Score"
   ]
  },
  {
   "cell_type": "code",
   "execution_count": 37,
   "metadata": {},
   "outputs": [
    {
     "name": "stdout",
     "output_type": "stream",
     "text": [
      "Train Score: 0.00153 MSE (0.04 RMSE)\n",
      "Test Score: 0.00216 MSE (0.05 RMSE)\n"
     ]
    },
    {
     "data": {
      "text/plain": [
       "(0.001527743626786026, 0.0021634936720305096)"
      ]
     },
     "execution_count": 37,
     "metadata": {},
     "output_type": "execute_result"
    }
   ],
   "source": [
    "def model_score(model, X_train, y_train, X_test, y_test):\n",
    "    trainScore = model.evaluate(X_train, y_train, verbose=0)\n",
    "    print('Train Score: %.5f MSE (%.2f RMSE)' % (trainScore[0], math.sqrt(trainScore[0])))\n",
    "\n",
    "    testScore = model.evaluate(X_test, y_test, verbose=0)\n",
    "    print('Test Score: %.5f MSE (%.2f RMSE)' % (testScore[0], math.sqrt(testScore[0])))\n",
    "    return trainScore[0], testScore[0]\n",
    "\n",
    "\n",
    "model_score(model, X_train, y_train, X_test, y_test)"
   ]
  },
  {
   "cell_type": "markdown",
   "metadata": {},
   "source": [
    "# Creating Visualizations"
   ]
  },
  {
   "cell_type": "code",
   "execution_count": 38,
   "metadata": {},
   "outputs": [
    {
     "data": {
      "image/png": "[encoded data removed]",
      "text/plain": [
       "<Figure size 432x288 with 1 Axes>"
      ]
     },
     "metadata": {
      "needs_background": "light"
     },
     "output_type": "display_data"
    }
   ],
   "source": [
    "import matplotlib.pyplot as plt2\n",
    "\n",
    "plt2.plot(newp,color='yellow', label='Prediction')\n",
    "plt2.plot(newy_test,color='orange', label='Actual')\n",
    "plt2.legend(loc='best')\n",
    "plt2.show()"
   ]
  },
  {
   "cell_type": "markdown",
   "metadata": {},
   "source": [
    "By looking at the analysis for the performance in the Ralph Lauren stock, it has been determined that the prediction and the actual values are almost close to similar. This time-series forecast is ran on a 30-day period. There will be more examples provided by doing different methods and different examples for this problem. "
   ]
  },
  {
   "cell_type": "code",
   "execution_count": null,
   "metadata": {},
   "outputs": [],
   "source": []
  }
 ],
 "metadata": {
  "kernelspec": {
   "display_name": "Python 3",
   "language": "python",
   "name": "python3"
  },
  "language_info": {
   "codemirror_mode": {
    "name": "ipython",
    "version": 3
   },
   "file_extension": ".py",
   "mimetype": "text/x-python",
   "name": "python",
   "nbconvert_exporter": "python",
   "pygments_lexer": "ipython3",
   "version": "3.6.6"
  }
 },
 "nbformat": 4,
 "nbformat_minor": 2
}
