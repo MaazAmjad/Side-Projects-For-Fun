{
 "cells": [
  {
   "cell_type": "markdown",
   "metadata": {},
   "source": [
    "# Importing the Packages"
   ]
  },
  {
   "cell_type": "code",
   "execution_count": 1,
   "metadata": {},
   "outputs": [],
   "source": [
    "import numpy as np"
   ]
  },
  {
   "cell_type": "code",
   "execution_count": 2,
   "metadata": {},
   "outputs": [],
   "source": [
    "import pandas as pd"
   ]
  },
  {
   "cell_type": "code",
   "execution_count": 3,
   "metadata": {},
   "outputs": [],
   "source": [
    "import matplotlib.pyplot as plt\n",
    "%matplotlib inline"
   ]
  },
  {
   "cell_type": "code",
   "execution_count": 4,
   "metadata": {},
   "outputs": [],
   "source": [
    "from pandas import datetime"
   ]
  },
  {
   "cell_type": "code",
   "execution_count": 5,
   "metadata": {},
   "outputs": [],
   "source": [
    "import seaborn as sns"
   ]
  },
  {
   "cell_type": "code",
   "execution_count": 6,
   "metadata": {},
   "outputs": [],
   "source": [
    "import math, time"
   ]
  },
  {
   "cell_type": "code",
   "execution_count": 7,
   "metadata": {},
   "outputs": [],
   "source": [
    "import itertools"
   ]
  },
  {
   "cell_type": "code",
   "execution_count": 8,
   "metadata": {},
   "outputs": [],
   "source": [
    "import datetime"
   ]
  },
  {
   "cell_type": "code",
   "execution_count": 9,
   "metadata": {},
   "outputs": [],
   "source": [
    "from operator import itemgetter"
   ]
  },
  {
   "cell_type": "code",
   "execution_count": 10,
   "metadata": {},
   "outputs": [],
   "source": [
    "from sklearn import preprocessing"
   ]
  },
  {
   "cell_type": "code",
   "execution_count": 11,
   "metadata": {},
   "outputs": [],
   "source": [
    "from sklearn.metrics import mean_squared_error"
   ]
  },
  {
   "cell_type": "code",
   "execution_count": 12,
   "metadata": {},
   "outputs": [],
   "source": [
    "from math import sqrt"
   ]
  },
  {
   "cell_type": "code",
   "execution_count": 13,
   "metadata": {},
   "outputs": [
    {
     "name": "stderr",
     "output_type": "stream",
     "text": [
      "Using TensorFlow backend.\n"
     ]
    }
   ],
   "source": [
    "from keras.models import Sequential"
   ]
  },
  {
   "cell_type": "code",
   "execution_count": 14,
   "metadata": {},
   "outputs": [],
   "source": [
    "from keras.layers.core import Dense, Dropout, Activation"
   ]
  },
  {
   "cell_type": "code",
   "execution_count": 15,
   "metadata": {},
   "outputs": [],
   "source": [
    "from keras.layers.recurrent import LSTM"
   ]
  },
  {
   "cell_type": "code",
   "execution_count": 16,
   "metadata": {},
   "outputs": [],
   "source": [
    "from keras.models import load_model"
   ]
  },
  {
   "cell_type": "code",
   "execution_count": 17,
   "metadata": {},
   "outputs": [],
   "source": [
    "import keras"
   ]
  },
  {
   "cell_type": "code",
   "execution_count": 18,
   "metadata": {},
   "outputs": [],
   "source": [
    "import h5py"
   ]
  },
  {
   "cell_type": "code",
   "execution_count": 19,
   "metadata": {},
   "outputs": [],
   "source": [
    "import requests"
   ]
  },
  {
   "cell_type": "code",
   "execution_count": 20,
   "metadata": {},
   "outputs": [],
   "source": [
    "import os"
   ]
  },
  {
   "cell_type": "markdown",
   "metadata": {},
   "source": [
    "# Reading the Data"
   ]
  },
  {
   "cell_type": "code",
   "execution_count": 21,
   "metadata": {},
   "outputs": [
    {
     "data": {
      "text/html": [
       "<div>\n",
       "<style scoped>\n",
       "    .dataframe tbody tr th:only-of-type {\n",
       "        vertical-align: middle;\n",
       "    }\n",
       "\n",
       "    .dataframe tbody tr th {\n",
       "        vertical-align: top;\n",
       "    }\n",
       "\n",
       "    .dataframe thead th {\n",
       "        text-align: right;\n",
       "    }\n",
       "</style>\n",
       "<table border=\"1\" class=\"dataframe\">\n",
       "  <thead>\n",
       "    <tr style=\"text-align: right;\">\n",
       "      <th></th>\n",
       "      <th>symbol</th>\n",
       "      <th>open</th>\n",
       "      <th>low</th>\n",
       "      <th>high</th>\n",
       "      <th>volume</th>\n",
       "      <th>adj close</th>\n",
       "    </tr>\n",
       "    <tr>\n",
       "      <th>date</th>\n",
       "      <th></th>\n",
       "      <th></th>\n",
       "      <th></th>\n",
       "      <th></th>\n",
       "      <th></th>\n",
       "      <th></th>\n",
       "    </tr>\n",
       "  </thead>\n",
       "  <tbody>\n",
       "    <tr>\n",
       "      <th>2016-01-05</th>\n",
       "      <td>WLTW</td>\n",
       "      <td>123.430000</td>\n",
       "      <td>122.309998</td>\n",
       "      <td>126.250000</td>\n",
       "      <td>2163600.0</td>\n",
       "      <td>125.839996</td>\n",
       "    </tr>\n",
       "    <tr>\n",
       "      <th>2016-01-06</th>\n",
       "      <td>WLTW</td>\n",
       "      <td>125.239998</td>\n",
       "      <td>119.940002</td>\n",
       "      <td>125.540001</td>\n",
       "      <td>2386400.0</td>\n",
       "      <td>119.980003</td>\n",
       "    </tr>\n",
       "    <tr>\n",
       "      <th>2016-01-07</th>\n",
       "      <td>WLTW</td>\n",
       "      <td>116.379997</td>\n",
       "      <td>114.930000</td>\n",
       "      <td>119.739998</td>\n",
       "      <td>2489500.0</td>\n",
       "      <td>114.949997</td>\n",
       "    </tr>\n",
       "    <tr>\n",
       "      <th>2016-01-08</th>\n",
       "      <td>WLTW</td>\n",
       "      <td>115.480003</td>\n",
       "      <td>113.500000</td>\n",
       "      <td>117.440002</td>\n",
       "      <td>2006300.0</td>\n",
       "      <td>116.620003</td>\n",
       "    </tr>\n",
       "    <tr>\n",
       "      <th>2016-01-11</th>\n",
       "      <td>WLTW</td>\n",
       "      <td>117.010002</td>\n",
       "      <td>114.089996</td>\n",
       "      <td>117.330002</td>\n",
       "      <td>1408600.0</td>\n",
       "      <td>114.970001</td>\n",
       "    </tr>\n",
       "  </tbody>\n",
       "</table>\n",
       "</div>"
      ],
      "text/plain": [
       "           symbol        open         low        high     volume   adj close\n",
       "date                                                                        \n",
       "2016-01-05   WLTW  123.430000  122.309998  126.250000  2163600.0  125.839996\n",
       "2016-01-06   WLTW  125.239998  119.940002  125.540001  2386400.0  119.980003\n",
       "2016-01-07   WLTW  116.379997  114.930000  119.739998  2489500.0  114.949997\n",
       "2016-01-08   WLTW  115.480003  113.500000  117.440002  2006300.0  116.620003\n",
       "2016-01-11   WLTW  117.010002  114.089996  117.330002  1408600.0  114.970001"
      ]
     },
     "execution_count": 21,
     "metadata": {},
     "output_type": "execute_result"
    }
   ],
   "source": [
    "adjusted = pd.read_csv(\"./prices-split-adjusted.csv\", index_col = 0)\n",
    "adjusted[\"adj close\"] = adjusted.close # Moving close to the last column\n",
    "adjusted.drop(['close'], 1, inplace=True) # Moving close to the last column\n",
    "adjusted.head()"
   ]
  },
  {
   "cell_type": "code",
   "execution_count": 22,
   "metadata": {},
   "outputs": [
    {
     "data": {
      "text/html": [
       "<div>\n",
       "<style scoped>\n",
       "    .dataframe tbody tr th:only-of-type {\n",
       "        vertical-align: middle;\n",
       "    }\n",
       "\n",
       "    .dataframe tbody tr th {\n",
       "        vertical-align: top;\n",
       "    }\n",
       "\n",
       "    .dataframe thead th {\n",
       "        text-align: right;\n",
       "    }\n",
       "</style>\n",
       "<table border=\"1\" class=\"dataframe\">\n",
       "  <thead>\n",
       "    <tr style=\"text-align: right;\">\n",
       "      <th></th>\n",
       "      <th>Unnamed: 0</th>\n",
       "      <th>Ticker Symbol</th>\n",
       "      <th>Period Ending</th>\n",
       "      <th>Accounts Payable</th>\n",
       "      <th>Accounts Receivable</th>\n",
       "      <th>Add'l income/expense items</th>\n",
       "      <th>After Tax ROE</th>\n",
       "      <th>Capital Expenditures</th>\n",
       "      <th>Capital Surplus</th>\n",
       "      <th>Cash Ratio</th>\n",
       "      <th>...</th>\n",
       "      <th>Total Current Assets</th>\n",
       "      <th>Total Current Liabilities</th>\n",
       "      <th>Total Equity</th>\n",
       "      <th>Total Liabilities</th>\n",
       "      <th>Total Liabilities &amp; Equity</th>\n",
       "      <th>Total Revenue</th>\n",
       "      <th>Treasury Stock</th>\n",
       "      <th>For Year</th>\n",
       "      <th>Earnings Per Share</th>\n",
       "      <th>Estimated Shares Outstanding</th>\n",
       "    </tr>\n",
       "  </thead>\n",
       "  <tbody>\n",
       "    <tr>\n",
       "      <th>0</th>\n",
       "      <td>0</td>\n",
       "      <td>AAL</td>\n",
       "      <td>2012-12-31</td>\n",
       "      <td>3.068000e+09</td>\n",
       "      <td>-222000000.0</td>\n",
       "      <td>-1.961000e+09</td>\n",
       "      <td>23.0</td>\n",
       "      <td>-1.888000e+09</td>\n",
       "      <td>4.695000e+09</td>\n",
       "      <td>53.0</td>\n",
       "      <td>...</td>\n",
       "      <td>7.072000e+09</td>\n",
       "      <td>9.011000e+09</td>\n",
       "      <td>-7.987000e+09</td>\n",
       "      <td>2.489100e+10</td>\n",
       "      <td>1.690400e+10</td>\n",
       "      <td>2.485500e+10</td>\n",
       "      <td>-367000000.0</td>\n",
       "      <td>2012.0</td>\n",
       "      <td>-5.60</td>\n",
       "      <td>3.350000e+08</td>\n",
       "    </tr>\n",
       "    <tr>\n",
       "      <th>1</th>\n",
       "      <td>1</td>\n",
       "      <td>AAL</td>\n",
       "      <td>2013-12-31</td>\n",
       "      <td>4.975000e+09</td>\n",
       "      <td>-93000000.0</td>\n",
       "      <td>-2.723000e+09</td>\n",
       "      <td>67.0</td>\n",
       "      <td>-3.114000e+09</td>\n",
       "      <td>1.059200e+10</td>\n",
       "      <td>75.0</td>\n",
       "      <td>...</td>\n",
       "      <td>1.432300e+10</td>\n",
       "      <td>1.380600e+10</td>\n",
       "      <td>-2.731000e+09</td>\n",
       "      <td>4.500900e+10</td>\n",
       "      <td>4.227800e+10</td>\n",
       "      <td>2.674300e+10</td>\n",
       "      <td>0.0</td>\n",
       "      <td>2013.0</td>\n",
       "      <td>-11.25</td>\n",
       "      <td>1.630222e+08</td>\n",
       "    </tr>\n",
       "    <tr>\n",
       "      <th>2</th>\n",
       "      <td>2</td>\n",
       "      <td>AAL</td>\n",
       "      <td>2014-12-31</td>\n",
       "      <td>4.668000e+09</td>\n",
       "      <td>-160000000.0</td>\n",
       "      <td>-1.500000e+08</td>\n",
       "      <td>143.0</td>\n",
       "      <td>-5.311000e+09</td>\n",
       "      <td>1.513500e+10</td>\n",
       "      <td>60.0</td>\n",
       "      <td>...</td>\n",
       "      <td>1.175000e+10</td>\n",
       "      <td>1.340400e+10</td>\n",
       "      <td>2.021000e+09</td>\n",
       "      <td>4.120400e+10</td>\n",
       "      <td>4.322500e+10</td>\n",
       "      <td>4.265000e+10</td>\n",
       "      <td>0.0</td>\n",
       "      <td>2014.0</td>\n",
       "      <td>4.02</td>\n",
       "      <td>7.169154e+08</td>\n",
       "    </tr>\n",
       "    <tr>\n",
       "      <th>3</th>\n",
       "      <td>3</td>\n",
       "      <td>AAL</td>\n",
       "      <td>2015-12-31</td>\n",
       "      <td>5.102000e+09</td>\n",
       "      <td>352000000.0</td>\n",
       "      <td>-7.080000e+08</td>\n",
       "      <td>135.0</td>\n",
       "      <td>-6.151000e+09</td>\n",
       "      <td>1.159100e+10</td>\n",
       "      <td>51.0</td>\n",
       "      <td>...</td>\n",
       "      <td>9.985000e+09</td>\n",
       "      <td>1.360500e+10</td>\n",
       "      <td>5.635000e+09</td>\n",
       "      <td>4.278000e+10</td>\n",
       "      <td>4.841500e+10</td>\n",
       "      <td>4.099000e+10</td>\n",
       "      <td>0.0</td>\n",
       "      <td>2015.0</td>\n",
       "      <td>11.39</td>\n",
       "      <td>6.681299e+08</td>\n",
       "    </tr>\n",
       "    <tr>\n",
       "      <th>4</th>\n",
       "      <td>4</td>\n",
       "      <td>AAP</td>\n",
       "      <td>2012-12-29</td>\n",
       "      <td>2.409453e+09</td>\n",
       "      <td>-89482000.0</td>\n",
       "      <td>6.000000e+05</td>\n",
       "      <td>32.0</td>\n",
       "      <td>-2.711820e+08</td>\n",
       "      <td>5.202150e+08</td>\n",
       "      <td>23.0</td>\n",
       "      <td>...</td>\n",
       "      <td>3.184200e+09</td>\n",
       "      <td>2.559638e+09</td>\n",
       "      <td>1.210694e+09</td>\n",
       "      <td>3.403120e+09</td>\n",
       "      <td>4.613814e+09</td>\n",
       "      <td>6.205003e+09</td>\n",
       "      <td>-27095000.0</td>\n",
       "      <td>2012.0</td>\n",
       "      <td>5.29</td>\n",
       "      <td>7.328355e+07</td>\n",
       "    </tr>\n",
       "  </tbody>\n",
       "</table>\n",
       "<p>5 rows × 79 columns</p>\n",
       "</div>"
      ],
      "text/plain": [
       "   Unnamed: 0 Ticker Symbol Period Ending  Accounts Payable  \\\n",
       "0           0           AAL    2012-12-31      3.068000e+09   \n",
       "1           1           AAL    2013-12-31      4.975000e+09   \n",
       "2           2           AAL    2014-12-31      4.668000e+09   \n",
       "3           3           AAL    2015-12-31      5.102000e+09   \n",
       "4           4           AAP    2012-12-29      2.409453e+09   \n",
       "\n",
       "   Accounts Receivable  Add'l income/expense items  After Tax ROE  \\\n",
       "0         -222000000.0               -1.961000e+09           23.0   \n",
       "1          -93000000.0               -2.723000e+09           67.0   \n",
       "2         -160000000.0               -1.500000e+08          143.0   \n",
       "3          352000000.0               -7.080000e+08          135.0   \n",
       "4          -89482000.0                6.000000e+05           32.0   \n",
       "\n",
       "   Capital Expenditures  Capital Surplus  Cash Ratio  \\\n",
       "0         -1.888000e+09     4.695000e+09        53.0   \n",
       "1         -3.114000e+09     1.059200e+10        75.0   \n",
       "2         -5.311000e+09     1.513500e+10        60.0   \n",
       "3         -6.151000e+09     1.159100e+10        51.0   \n",
       "4         -2.711820e+08     5.202150e+08        23.0   \n",
       "\n",
       "               ...               Total Current Assets  \\\n",
       "0              ...                       7.072000e+09   \n",
       "1              ...                       1.432300e+10   \n",
       "2              ...                       1.175000e+10   \n",
       "3              ...                       9.985000e+09   \n",
       "4              ...                       3.184200e+09   \n",
       "\n",
       "   Total Current Liabilities  Total Equity  Total Liabilities  \\\n",
       "0               9.011000e+09 -7.987000e+09       2.489100e+10   \n",
       "1               1.380600e+10 -2.731000e+09       4.500900e+10   \n",
       "2               1.340400e+10  2.021000e+09       4.120400e+10   \n",
       "3               1.360500e+10  5.635000e+09       4.278000e+10   \n",
       "4               2.559638e+09  1.210694e+09       3.403120e+09   \n",
       "\n",
       "   Total Liabilities & Equity  Total Revenue  Treasury Stock  For Year  \\\n",
       "0                1.690400e+10   2.485500e+10    -367000000.0    2012.0   \n",
       "1                4.227800e+10   2.674300e+10             0.0    2013.0   \n",
       "2                4.322500e+10   4.265000e+10             0.0    2014.0   \n",
       "3                4.841500e+10   4.099000e+10             0.0    2015.0   \n",
       "4                4.613814e+09   6.205003e+09     -27095000.0    2012.0   \n",
       "\n",
       "   Earnings Per Share  Estimated Shares Outstanding  \n",
       "0               -5.60                  3.350000e+08  \n",
       "1              -11.25                  1.630222e+08  \n",
       "2                4.02                  7.169154e+08  \n",
       "3               11.39                  6.681299e+08  \n",
       "4                5.29                  7.328355e+07  \n",
       "\n",
       "[5 rows x 79 columns]"
      ]
     },
     "execution_count": 22,
     "metadata": {},
     "output_type": "execute_result"
    }
   ],
   "source": [
    "fundamentals = pd.read_csv(\"./fundamentals.csv\")\n",
    "fundamentals.head()"
   ]
  },
  {
   "cell_type": "markdown",
   "metadata": {},
   "source": [
    "# Looking for NaN Values"
   ]
  },
  {
   "cell_type": "code",
   "execution_count": 23,
   "metadata": {},
   "outputs": [
    {
     "data": {
      "text/plain": [
       "<matplotlib.axes._subplots.AxesSubplot at 0x7fab307016a0>"
      ]
     },
     "execution_count": 23,
     "metadata": {},
     "output_type": "execute_result"
    },
    {
     "data": {
      "image/png": "[encoded data removed]",
      "text/plain": [
       "<Figure size 432x288 with 1 Axes>"
      ]
     },
     "metadata": {
      "needs_background": "light"
     },
     "output_type": "display_data"
    }
   ],
   "source": [
    "sns.heatmap(adjusted.isnull(),yticklabels=False,cbar=False,cmap='coolwarm')"
   ]
  },
  {
   "cell_type": "code",
   "execution_count": 24,
   "metadata": {},
   "outputs": [
    {
     "data": {
      "text/plain": [
       "<matplotlib.axes._subplots.AxesSubplot at 0x7fab30622358>"
      ]
     },
     "execution_count": 24,
     "metadata": {},
     "output_type": "execute_result"
    },
    {
     "data": {
      "image/png": "[encoded data removed]",
      "text/plain": [
       "<Figure size 432x288 with 1 Axes>"
      ]
     },
     "metadata": {
      "needs_background": "light"
     },
     "output_type": "display_data"
    }
   ],
   "source": [
    "sns.heatmap(fundamentals.isnull(),yticklabels=False,cbar=False,cmap='viridis')"
   ]
  },
  {
   "cell_type": "markdown",
   "metadata": {},
   "source": [
    "Let's get to work!"
   ]
  },
  {
   "cell_type": "markdown",
   "metadata": {},
   "source": [
    "# Extracting Symbols from List"
   ]
  },
  {
   "cell_type": "code",
   "execution_count": 25,
   "metadata": {},
   "outputs": [
    {
     "data": {
      "text/plain": [
       "501"
      ]
     },
     "execution_count": 25,
     "metadata": {},
     "output_type": "execute_result"
    }
   ],
   "source": [
    "symbols = list(set(adjusted.symbol))\n",
    "len(symbols)"
   ]
  },
  {
   "cell_type": "code",
   "execution_count": 26,
   "metadata": {},
   "outputs": [
    {
     "data": {
      "text/plain": [
       "['WMB',\n",
       " 'BAC',\n",
       " 'EIX',\n",
       " 'MOS',\n",
       " 'HSIC',\n",
       " 'FCX',\n",
       " 'SPG',\n",
       " 'IVZ',\n",
       " 'TRIP',\n",
       " 'GM',\n",
       " 'MUR',\n",
       " 'VRSK',\n",
       " 'ADSK',\n",
       " 'OXY',\n",
       " 'SYK']"
      ]
     },
     "execution_count": 26,
     "metadata": {},
     "output_type": "execute_result"
    }
   ],
   "source": [
    "symbols[:15] # Example of what is in symbols"
   ]
  },
  {
   "cell_type": "markdown",
   "metadata": {},
   "source": [
    "# Facebook as an Example"
   ]
  },
  {
   "cell_type": "code",
   "execution_count": 27,
   "metadata": {},
   "outputs": [
    {
     "data": {
      "text/html": [
       "<div>\n",
       "<style scoped>\n",
       "    .dataframe tbody tr th:only-of-type {\n",
       "        vertical-align: middle;\n",
       "    }\n",
       "\n",
       "    .dataframe tbody tr th {\n",
       "        vertical-align: top;\n",
       "    }\n",
       "\n",
       "    .dataframe thead th {\n",
       "        text-align: right;\n",
       "    }\n",
       "</style>\n",
       "<table border=\"1\" class=\"dataframe\">\n",
       "  <thead>\n",
       "    <tr style=\"text-align: right;\">\n",
       "      <th></th>\n",
       "      <th>open</th>\n",
       "      <th>low</th>\n",
       "      <th>high</th>\n",
       "      <th>volume</th>\n",
       "      <th>adj close</th>\n",
       "    </tr>\n",
       "    <tr>\n",
       "      <th>date</th>\n",
       "      <th></th>\n",
       "      <th></th>\n",
       "      <th></th>\n",
       "      <th></th>\n",
       "      <th></th>\n",
       "    </tr>\n",
       "  </thead>\n",
       "  <tbody>\n",
       "    <tr>\n",
       "      <th>2013-01-02</th>\n",
       "      <td>27.440001</td>\n",
       "      <td>27.420000</td>\n",
       "      <td>28.180000</td>\n",
       "      <td>69846400.0</td>\n",
       "      <td>28.000000</td>\n",
       "    </tr>\n",
       "    <tr>\n",
       "      <th>2013-01-03</th>\n",
       "      <td>27.879999</td>\n",
       "      <td>27.590000</td>\n",
       "      <td>28.469999</td>\n",
       "      <td>63140600.0</td>\n",
       "      <td>27.770000</td>\n",
       "    </tr>\n",
       "    <tr>\n",
       "      <th>2013-01-04</th>\n",
       "      <td>28.010000</td>\n",
       "      <td>27.830000</td>\n",
       "      <td>28.930000</td>\n",
       "      <td>72715400.0</td>\n",
       "      <td>28.760000</td>\n",
       "    </tr>\n",
       "    <tr>\n",
       "      <th>2013-01-07</th>\n",
       "      <td>28.690001</td>\n",
       "      <td>28.650000</td>\n",
       "      <td>29.790001</td>\n",
       "      <td>83781800.0</td>\n",
       "      <td>29.420000</td>\n",
       "    </tr>\n",
       "    <tr>\n",
       "      <th>2013-01-08</th>\n",
       "      <td>29.510000</td>\n",
       "      <td>28.860001</td>\n",
       "      <td>29.600000</td>\n",
       "      <td>45871300.0</td>\n",
       "      <td>29.059999</td>\n",
       "    </tr>\n",
       "  </tbody>\n",
       "</table>\n",
       "</div>"
      ],
      "text/plain": [
       "                 open        low       high      volume  adj close\n",
       "date                                                              \n",
       "2013-01-02  27.440001  27.420000  28.180000  69846400.0  28.000000\n",
       "2013-01-03  27.879999  27.590000  28.469999  63140600.0  27.770000\n",
       "2013-01-04  28.010000  27.830000  28.930000  72715400.0  28.760000\n",
       "2013-01-07  28.690001  28.650000  29.790001  83781800.0  29.420000\n",
       "2013-01-08  29.510000  28.860001  29.600000  45871300.0  29.059999"
      ]
     },
     "execution_count": 27,
     "metadata": {},
     "output_type": "execute_result"
    }
   ],
   "source": [
    "adjusted = adjusted[adjusted.symbol == 'FB']\n",
    "adjusted.drop(['symbol'],1,inplace=True)\n",
    "adjusted.head()"
   ]
  },
  {
   "cell_type": "markdown",
   "metadata": {},
   "source": [
    "# Normalize the Data"
   ]
  },
  {
   "cell_type": "code",
   "execution_count": 28,
   "metadata": {},
   "outputs": [
    {
     "data": {
      "text/html": [
       "<div>\n",
       "<style scoped>\n",
       "    .dataframe tbody tr th:only-of-type {\n",
       "        vertical-align: middle;\n",
       "    }\n",
       "\n",
       "    .dataframe tbody tr th {\n",
       "        vertical-align: top;\n",
       "    }\n",
       "\n",
       "    .dataframe thead th {\n",
       "        text-align: right;\n",
       "    }\n",
       "</style>\n",
       "<table border=\"1\" class=\"dataframe\">\n",
       "  <thead>\n",
       "    <tr style=\"text-align: right;\">\n",
       "      <th></th>\n",
       "      <th>open</th>\n",
       "      <th>low</th>\n",
       "      <th>high</th>\n",
       "      <th>volume</th>\n",
       "      <th>adj close</th>\n",
       "    </tr>\n",
       "    <tr>\n",
       "      <th>date</th>\n",
       "      <th></th>\n",
       "      <th></th>\n",
       "      <th></th>\n",
       "      <th></th>\n",
       "      <th></th>\n",
       "    </tr>\n",
       "  </thead>\n",
       "  <tbody>\n",
       "    <tr>\n",
       "      <th>2013-01-02</th>\n",
       "      <td>0.040268</td>\n",
       "      <td>0.043359</td>\n",
       "      <td>0.046101</td>\n",
       "      <td>0.177817</td>\n",
       "      <td>0.046204</td>\n",
       "    </tr>\n",
       "    <tr>\n",
       "      <th>2013-01-03</th>\n",
       "      <td>0.044249</td>\n",
       "      <td>0.044911</td>\n",
       "      <td>0.048727</td>\n",
       "      <td>0.159167</td>\n",
       "      <td>0.044120</td>\n",
       "    </tr>\n",
       "    <tr>\n",
       "      <th>2013-01-04</th>\n",
       "      <td>0.045426</td>\n",
       "      <td>0.047102</td>\n",
       "      <td>0.052894</td>\n",
       "      <td>0.185797</td>\n",
       "      <td>0.053089</td>\n",
       "    </tr>\n",
       "    <tr>\n",
       "      <th>2013-01-07</th>\n",
       "      <td>0.051579</td>\n",
       "      <td>0.054587</td>\n",
       "      <td>0.060683</td>\n",
       "      <td>0.216576</td>\n",
       "      <td>0.059069</td>\n",
       "    </tr>\n",
       "    <tr>\n",
       "      <th>2013-01-08</th>\n",
       "      <td>0.058999</td>\n",
       "      <td>0.056504</td>\n",
       "      <td>0.058962</td>\n",
       "      <td>0.111136</td>\n",
       "      <td>0.055807</td>\n",
       "    </tr>\n",
       "  </tbody>\n",
       "</table>\n",
       "</div>"
      ],
      "text/plain": [
       "                open       low      high    volume  adj close\n",
       "date                                                         \n",
       "2013-01-02  0.040268  0.043359  0.046101  0.177817   0.046204\n",
       "2013-01-03  0.044249  0.044911  0.048727  0.159167   0.044120\n",
       "2013-01-04  0.045426  0.047102  0.052894  0.185797   0.053089\n",
       "2013-01-07  0.051579  0.054587  0.060683  0.216576   0.059069\n",
       "2013-01-08  0.058999  0.056504  0.058962  0.111136   0.055807"
      ]
     },
     "execution_count": 28,
     "metadata": {},
     "output_type": "execute_result"
    }
   ],
   "source": [
    "def normalize_data(adjusted):\n",
    "    min_max_scaler = preprocessing.MinMaxScaler()\n",
    "    adjusted['open'] = min_max_scaler.fit_transform(adjusted.open.values.reshape(-1,1))\n",
    "    adjusted['high'] = min_max_scaler.fit_transform(adjusted.high.values.reshape(-1,1))\n",
    "    adjusted['low'] = min_max_scaler.fit_transform(adjusted.low.values.reshape(-1,1))\n",
    "    adjusted['volume'] = min_max_scaler.fit_transform(adjusted.volume.values.reshape(-1,1))\n",
    "    adjusted['adj close'] = min_max_scaler.fit_transform(adjusted['adj close'].values.reshape(-1,1))\n",
    "    return adjusted\n",
    "adjusted = normalize_data(adjusted)\n",
    "adjusted.head()"
   ]
  },
  {
   "cell_type": "markdown",
   "metadata": {},
   "source": [
    "# Creating the Train Test Split"
   ]
  },
  {
   "cell_type": "code",
   "execution_count": 29,
   "metadata": {},
   "outputs": [],
   "source": [
    "def load_data(stock, seq_len):\n",
    "    amount_of_features = len(stock.columns) # 5\n",
    "    data = stock.as_matrix() \n",
    "    sequence_length = seq_len + 1 # index starting from 0\n",
    "    result = []\n",
    "    \n",
    "    for index in range(len(data) - sequence_length): # maxmimum date = lastest date - sequence length\n",
    "        result.append(data[index: index + sequence_length]) # index : index + 30 days\n",
    "    \n",
    "    result = np.array(result)\n",
    "    row = round(0.9 * result.shape[0]) # 90% split\n",
    "    train = result[:int(row), :] # 90% date, all features \n",
    "    \n",
    "    x_train = train[:, :-1] \n",
    "    y_train = train[:, -1][:,-1]\n",
    "    \n",
    "    x_test = result[int(row):, :-1] \n",
    "    y_test = result[int(row):, -1][:,-1]\n",
    "\n",
    "    x_train = np.reshape(x_train, (x_train.shape[0], x_train.shape[1], amount_of_features))\n",
    "    x_test = np.reshape(x_test, (x_test.shape[0], x_test.shape[1], amount_of_features))  \n",
    "\n",
    "    return [x_train, y_train, x_test, y_test]"
   ]
  },
  {
   "cell_type": "markdown",
   "metadata": {},
   "source": [
    "# Building Layers"
   ]
  },
  {
   "cell_type": "code",
   "execution_count": 30,
   "metadata": {},
   "outputs": [],
   "source": [
    "def build_model(layers):\n",
    "    d = 0.3\n",
    "    model = Sequential()\n",
    "    \n",
    "    model.add(LSTM(256, input_shape=(layers[1], layers[0]), return_sequences=True))\n",
    "    model.add(Dropout(d))\n",
    "        \n",
    "    model.add(LSTM(256, input_shape=(layers[1], layers[0]), return_sequences=False))\n",
    "    model.add(Dropout(d))\n",
    "        \n",
    "    model.add(Dense(32,kernel_initializer=\"uniform\",activation='relu'))        \n",
    "    model.add(Dense(1,kernel_initializer=\"uniform\",activation='linear'))\n",
    "    \n",
    "    # adam = keras.optimizers.Adam(decay=0.2)\n",
    "        \n",
    "    start = time.time()\n",
    "    model.compile(loss='mse',optimizer='adam', metrics=['accuracy'])\n",
    "    print(\"Compilation Time : \", time.time() - start)\n",
    "    return model"
   ]
  },
  {
   "cell_type": "markdown",
   "metadata": {},
   "source": [
    "# Training the Model"
   ]
  },
  {
   "cell_type": "code",
   "execution_count": 31,
   "metadata": {},
   "outputs": [
    {
     "name": "stdout",
     "output_type": "stream",
     "text": [
      "[[0.04026786 0.0433592  0.0461009  0.17781734 0.04620402]\n",
      " [0.04424938 0.044911   0.04872746 0.15916654 0.04412031]\n",
      " [0.04542575 0.04710178 0.05289376 0.18579687 0.05308933]\n",
      " [0.05157905 0.05458695 0.06068292 0.21657579 0.05906867]\n",
      " [0.05899919 0.05650389 0.05896205 0.11113552 0.0558072 ]\n",
      " [0.06044702 0.06225468 0.0680192  0.27499939 0.06966842]\n",
      " [0.06886255 0.06946601 0.07571779 0.24865691 0.07610073]\n",
      " [0.07501584 0.07695116 0.08033692 0.23275236 0.07990577]\n",
      " [0.08225502 0.07256961 0.0826012  0.25860393 0.07292989]\n",
      " [0.0692245  0.06581469 0.07807263 0.46539263 0.06522921]\n",
      " [0.06533344 0.06261982 0.06575491 0.19307636 0.06296431]\n",
      " [0.06415709 0.06718394 0.06638891 0.09551967 0.06559158]\n",
      " [0.06623834 0.06024646 0.06657007 0.12159375 0.06124298]\n",
      " [0.06117093 0.06453674 0.07064577 0.13720182 0.07093676]\n",
      " [0.07338702 0.07421268 0.07617064 0.11955868 0.07175213]\n",
      " [0.07492535 0.07430396 0.07608007 0.10550007 0.07410763]\n",
      " [0.0761922  0.077225   0.08006521 0.13475511 0.07827506]\n",
      " [0.0804452  0.08343221 0.08531834 0.14954854 0.0867005 ]\n",
      " [0.08153108 0.07339114 0.08133321 0.18652307 0.07148035]\n",
      " [0.07230115 0.07494294 0.07608007 0.22742368 0.07555717]\n",
      " [0.05574156 0.05540849 0.07589891 0.51407168 0.07320167]\n",
      " [0.07257262 0.06353262 0.0718232  0.2223467  0.06187715]\n",
      " [0.05492715 0.04874486 0.0553392  0.24044041 0.04720059]\n",
      " [0.04768799 0.04901872 0.05316547 0.116912   0.05200217]\n",
      " [0.05203149 0.05467823 0.05615434 0.09028861 0.05571661]\n",
      " [0.05537961 0.05111821 0.05488633 0.07962012 0.05209277]\n",
      " [0.05338882 0.05330899 0.05506748 0.08843321 0.0511868 ]\n",
      " [0.05085514 0.04901872 0.05062947 0.0874681  0.04855952]\n",
      " [0.04234911 0.04043816 0.04591975 0.24360135 0.04049648]\n",
      " [0.03954394 0.04235508 0.0473689  0.12307479 0.04538866]] 0.0507338290517651\n"
     ]
    },
    {
     "name": "stderr",
     "output_type": "stream",
     "text": [
      "/home/atse/miniconda3/lib/python3.6/site-packages/ipykernel_launcher.py:3: FutureWarning: Method .as_matrix will be removed in a future version. Use .values instead.\n",
      "  This is separate from the ipykernel package so we can avoid doing imports until\n"
     ]
    }
   ],
   "source": [
    "window = 30\n",
    "X_train, y_train, X_test, y_test = load_data(adjusted, window)\n",
    "print (X_train[0], y_train[0])"
   ]
  },
  {
   "cell_type": "code",
   "execution_count": 32,
   "metadata": {},
   "outputs": [
    {
     "name": "stdout",
     "output_type": "stream",
     "text": [
      "Compilation Time :  0.07312583923339844\n"
     ]
    }
   ],
   "source": [
    "model = build_model([5,window,1])"
   ]
  },
  {
   "cell_type": "code",
   "execution_count": 33,
   "metadata": {},
   "outputs": [
    {
     "name": "stdout",
     "output_type": "stream",
     "text": [
      "Train on 791 samples, validate on 88 samples\n",
      "Epoch 1/100\n",
      "791/791 [==============================] - 19s 24ms/step - loss: 0.2220 - acc: 0.0013 - val_loss: 0.6290 - val_acc: 0.0000e+00\n",
      "Epoch 2/100\n",
      "791/791 [==============================] - 5s 6ms/step - loss: 0.1805 - acc: 0.0013 - val_loss: 0.3367 - val_acc: 0.0000e+00\n",
      "Epoch 3/100\n",
      "791/791 [==============================] - 5s 7ms/step - loss: 0.0642 - acc: 0.0013 - val_loss: 0.0377 - val_acc: 0.0000e+00\n",
      "Epoch 4/100\n",
      "791/791 [==============================] - 5s 6ms/step - loss: 0.0522 - acc: 0.0013 - val_loss: 0.0497 - val_acc: 0.0000e+00\n",
      "Epoch 5/100\n",
      "791/791 [==============================] - 5s 6ms/step - loss: 0.0368 - acc: 0.0013 - val_loss: 0.1338 - val_acc: 0.0000e+00\n",
      "Epoch 6/100\n",
      "791/791 [==============================] - 5s 6ms/step - loss: 0.0210 - acc: 0.0013 - val_loss: 0.1911 - val_acc: 0.0000e+00\n",
      "Epoch 7/100\n",
      "791/791 [==============================] - 5s 6ms/step - loss: 0.0296 - acc: 0.0013 - val_loss: 0.1790 - val_acc: 0.0000e+00\n",
      "Epoch 8/100\n",
      "791/791 [==============================] - 5s 6ms/step - loss: 0.0241 - acc: 0.0013 - val_loss: 0.1240 - val_acc: 0.0000e+00\n",
      "Epoch 9/100\n",
      "791/791 [==============================] - 5s 6ms/step - loss: 0.0130 - acc: 0.0013 - val_loss: 0.0684 - val_acc: 0.0000e+00\n",
      "Epoch 10/100\n",
      "791/791 [==============================] - 5s 6ms/step - loss: 0.0119 - acc: 0.0013 - val_loss: 0.0398 - val_acc: 0.0000e+00\n",
      "Epoch 11/100\n",
      "791/791 [==============================] - 5s 6ms/step - loss: 0.0151 - acc: 0.0013 - val_loss: 0.0412 - val_acc: 0.0000e+00\n",
      "Epoch 12/100\n",
      "791/791 [==============================] - 4s 6ms/step - loss: 0.0072 - acc: 0.0013 - val_loss: 0.0604 - val_acc: 0.0000e+00\n",
      "Epoch 13/100\n",
      "791/791 [==============================] - 5s 6ms/step - loss: 0.0088 - acc: 0.0013 - val_loss: 0.0583 - val_acc: 0.0000e+00\n",
      "Epoch 14/100\n",
      "791/791 [==============================] - 4s 6ms/step - loss: 0.0082 - acc: 0.0013 - val_loss: 0.0278 - val_acc: 0.0000e+00\n",
      "Epoch 15/100\n",
      "791/791 [==============================] - 5s 6ms/step - loss: 0.0047 - acc: 0.0013 - val_loss: 0.0127 - val_acc: 0.0000e+00\n",
      "Epoch 16/100\n",
      "791/791 [==============================] - 4s 6ms/step - loss: 0.0072 - acc: 0.0013 - val_loss: 0.0171 - val_acc: 0.0000e+00\n",
      "Epoch 17/100\n",
      "791/791 [==============================] - 5s 6ms/step - loss: 0.0038 - acc: 0.0013 - val_loss: 0.0309 - val_acc: 0.0000e+00\n",
      "Epoch 18/100\n",
      "791/791 [==============================] - 4s 6ms/step - loss: 0.0054 - acc: 0.0013 - val_loss: 0.0250 - val_acc: 0.0000e+00\n",
      "Epoch 19/100\n",
      "791/791 [==============================] - 4s 6ms/step - loss: 0.0036 - acc: 0.0013 - val_loss: 0.0106 - val_acc: 0.0000e+00\n",
      "Epoch 20/100\n",
      "791/791 [==============================] - 4s 6ms/step - loss: 0.0038 - acc: 0.0013 - val_loss: 0.0078 - val_acc: 0.0000e+00\n",
      "Epoch 21/100\n",
      "791/791 [==============================] - 4s 6ms/step - loss: 0.0034 - acc: 0.0013 - val_loss: 0.0149 - val_acc: 0.0000e+00\n",
      "Epoch 22/100\n",
      "791/791 [==============================] - 5s 6ms/step - loss: 0.0028 - acc: 0.0013 - val_loss: 0.0185 - val_acc: 0.0000e+00\n",
      "Epoch 23/100\n",
      "791/791 [==============================] - 4s 6ms/step - loss: 0.0032 - acc: 0.0013 - val_loss: 0.0086 - val_acc: 0.0000e+00\n",
      "Epoch 24/100\n",
      "791/791 [==============================] - 4s 6ms/step - loss: 0.0023 - acc: 0.0013 - val_loss: 0.0037 - val_acc: 0.0000e+00\n",
      "Epoch 25/100\n",
      "791/791 [==============================] - 4s 6ms/step - loss: 0.0025 - acc: 0.0013 - val_loss: 0.0058 - val_acc: 0.0000e+00\n",
      "Epoch 26/100\n",
      "791/791 [==============================] - 5s 6ms/step - loss: 0.0019 - acc: 0.0013 - val_loss: 0.0080 - val_acc: 0.0000e+00\n",
      "Epoch 27/100\n",
      "791/791 [==============================] - 4s 6ms/step - loss: 0.0020 - acc: 0.0013 - val_loss: 0.0030 - val_acc: 0.0000e+00\n",
      "Epoch 28/100\n",
      "791/791 [==============================] - 4s 6ms/step - loss: 0.0018 - acc: 0.0013 - val_loss: 0.0014 - val_acc: 0.0000e+00\n",
      "Epoch 29/100\n",
      "791/791 [==============================] - 4s 6ms/step - loss: 0.0017 - acc: 0.0013 - val_loss: 0.0024 - val_acc: 0.0000e+00\n",
      "Epoch 30/100\n",
      "791/791 [==============================] - 4s 6ms/step - loss: 0.0017 - acc: 0.0013 - val_loss: 0.0029 - val_acc: 0.0000e+00\n",
      "Epoch 31/100\n",
      "791/791 [==============================] - 5s 6ms/step - loss: 0.0016 - acc: 0.0013 - val_loss: 0.0012 - val_acc: 0.0000e+00\n",
      "Epoch 32/100\n",
      "791/791 [==============================] - 4s 6ms/step - loss: 0.0017 - acc: 0.0013 - val_loss: 0.0012 - val_acc: 0.0000e+00\n",
      "Epoch 33/100\n",
      "791/791 [==============================] - 4s 6ms/step - loss: 0.0016 - acc: 0.0013 - val_loss: 0.0019 - val_acc: 0.0000e+00\n",
      "Epoch 34/100\n",
      "791/791 [==============================] - 4s 6ms/step - loss: 0.0017 - acc: 0.0013 - val_loss: 0.0012 - val_acc: 0.0000e+00\n",
      "Epoch 35/100\n",
      "791/791 [==============================] - 4s 6ms/step - loss: 0.0016 - acc: 0.0013 - val_loss: 0.0011 - val_acc: 0.0000e+00\n",
      "Epoch 36/100\n",
      "791/791 [==============================] - 5s 6ms/step - loss: 0.0016 - acc: 0.0013 - val_loss: 0.0021 - val_acc: 0.0000e+00\n",
      "Epoch 37/100\n",
      "791/791 [==============================] - 4s 6ms/step - loss: 0.0016 - acc: 0.0013 - val_loss: 0.0014 - val_acc: 0.0000e+00\n",
      "Epoch 38/100\n",
      "791/791 [==============================] - 4s 6ms/step - loss: 0.0016 - acc: 0.0013 - val_loss: 0.0011 - val_acc: 0.0000e+00\n",
      "Epoch 39/100\n",
      "791/791 [==============================] - 5s 6ms/step - loss: 0.0017 - acc: 0.0013 - val_loss: 0.0017 - val_acc: 0.0000e+00\n",
      "Epoch 40/100\n",
      "791/791 [==============================] - 5s 6ms/step - loss: 0.0015 - acc: 0.0013 - val_loss: 0.0014 - val_acc: 0.0000e+00\n",
      "Epoch 41/100\n",
      "791/791 [==============================] - 5s 6ms/step - loss: 0.0014 - acc: 0.0013 - val_loss: 0.0011 - val_acc: 0.0000e+00\n",
      "Epoch 42/100\n",
      "791/791 [==============================] - 4s 6ms/step - loss: 0.0016 - acc: 0.0013 - val_loss: 0.0012 - val_acc: 0.0000e+00\n",
      "Epoch 43/100\n",
      "791/791 [==============================] - 4s 6ms/step - loss: 0.0015 - acc: 0.0013 - val_loss: 0.0015 - val_acc: 0.0000e+00\n",
      "Epoch 44/100\n",
      "791/791 [==============================] - 4s 6ms/step - loss: 0.0015 - acc: 0.0013 - val_loss: 0.0012 - val_acc: 0.0000e+00\n",
      "Epoch 45/100\n",
      "791/791 [==============================] - 5s 6ms/step - loss: 0.0015 - acc: 0.0013 - val_loss: 0.0013 - val_acc: 0.0000e+00\n",
      "Epoch 46/100\n",
      "791/791 [==============================] - 5s 6ms/step - loss: 0.0015 - acc: 0.0013 - val_loss: 0.0018 - val_acc: 0.0000e+00\n",
      "Epoch 47/100\n",
      "791/791 [==============================] - 5s 6ms/step - loss: 0.0015 - acc: 0.0013 - val_loss: 0.0013 - val_acc: 0.0000e+00\n",
      "Epoch 48/100\n",
      "791/791 [==============================] - 5s 6ms/step - loss: 0.0015 - acc: 0.0013 - val_loss: 0.0013 - val_acc: 0.0000e+00\n",
      "Epoch 49/100\n",
      "791/791 [==============================] - 5s 6ms/step - loss: 0.0014 - acc: 0.0013 - val_loss: 0.0015 - val_acc: 0.0000e+00\n",
      "Epoch 50/100\n",
      "791/791 [==============================] - 4s 6ms/step - loss: 0.0014 - acc: 0.0013 - val_loss: 0.0012 - val_acc: 0.0000e+00\n",
      "Epoch 51/100\n",
      "791/791 [==============================] - 4s 6ms/step - loss: 0.0016 - acc: 0.0013 - val_loss: 0.0018 - val_acc: 0.0000e+00\n",
      "Epoch 52/100\n",
      "791/791 [==============================] - 5s 6ms/step - loss: 0.0015 - acc: 0.0013 - val_loss: 0.0014 - val_acc: 0.0000e+00\n",
      "Epoch 53/100\n",
      "791/791 [==============================] - 5s 6ms/step - loss: 0.0015 - acc: 0.0013 - val_loss: 0.0011 - val_acc: 0.0000e+00\n",
      "Epoch 54/100\n",
      "791/791 [==============================] - 4s 6ms/step - loss: 0.0014 - acc: 0.0013 - val_loss: 0.0018 - val_acc: 0.0000e+00\n",
      "Epoch 55/100\n",
      "791/791 [==============================] - 4s 6ms/step - loss: 0.0015 - acc: 0.0013 - val_loss: 0.0015 - val_acc: 0.0000e+00\n",
      "Epoch 56/100\n",
      "791/791 [==============================] - 5s 6ms/step - loss: 0.0014 - acc: 0.0013 - val_loss: 0.0012 - val_acc: 0.0000e+00\n",
      "Epoch 57/100\n",
      "791/791 [==============================] - 5s 6ms/step - loss: 0.0015 - acc: 0.0013 - val_loss: 0.0021 - val_acc: 0.0000e+00\n",
      "Epoch 58/100\n",
      "791/791 [==============================] - 5s 6ms/step - loss: 0.0015 - acc: 0.0013 - val_loss: 0.0013 - val_acc: 0.0000e+00\n",
      "Epoch 59/100\n",
      "791/791 [==============================] - 5s 6ms/step - loss: 0.0015 - acc: 0.0013 - val_loss: 0.0013 - val_acc: 0.0000e+00\n",
      "Epoch 60/100\n"
     ]
    },
    {
     "name": "stdout",
     "output_type": "stream",
     "text": [
      "791/791 [==============================] - 5s 6ms/step - loss: 0.0015 - acc: 0.0013 - val_loss: 0.0016 - val_acc: 0.0000e+00\n",
      "Epoch 61/100\n",
      "791/791 [==============================] - 9s 12ms/step - loss: 0.0015 - acc: 0.0013 - val_loss: 0.0013 - val_acc: 0.0000e+00\n",
      "Epoch 62/100\n",
      "791/791 [==============================] - 9s 12ms/step - loss: 0.0013 - acc: 0.0013 - val_loss: 0.0014 - val_acc: 0.0000e+00\n",
      "Epoch 63/100\n",
      "791/791 [==============================] - 9s 11ms/step - loss: 0.0014 - acc: 0.0013 - val_loss: 0.0011 - val_acc: 0.0000e+00\n",
      "Epoch 64/100\n",
      "791/791 [==============================] - 8s 10ms/step - loss: 0.0014 - acc: 0.0013 - val_loss: 0.0012 - val_acc: 0.0000e+00\n",
      "Epoch 65/100\n",
      "791/791 [==============================] - 13s 17ms/step - loss: 0.0014 - acc: 0.0013 - val_loss: 0.0013 - val_acc: 0.0000e+00\n",
      "Epoch 66/100\n",
      "791/791 [==============================] - 18s 23ms/step - loss: 0.0015 - acc: 0.0013 - val_loss: 0.0012 - val_acc: 0.0000e+00\n",
      "Epoch 67/100\n",
      "791/791 [==============================] - 14s 17ms/step - loss: 0.0014 - acc: 0.0013 - val_loss: 0.0016 - val_acc: 0.0000e+00\n",
      "Epoch 68/100\n",
      "791/791 [==============================] - 12s 16ms/step - loss: 0.0014 - acc: 0.0013 - val_loss: 0.0010 - val_acc: 0.0000e+00\n",
      "Epoch 69/100\n",
      "791/791 [==============================] - 12s 15ms/step - loss: 0.0014 - acc: 0.0013 - val_loss: 0.0019 - val_acc: 0.0000e+00\n",
      "Epoch 70/100\n",
      "791/791 [==============================] - 12s 15ms/step - loss: 0.0014 - acc: 0.0013 - val_loss: 0.0012 - val_acc: 0.0000e+00\n",
      "Epoch 71/100\n",
      "791/791 [==============================] - 13s 17ms/step - loss: 0.0013 - acc: 0.0013 - val_loss: 0.0014 - val_acc: 0.0000e+00\n",
      "Epoch 72/100\n",
      "791/791 [==============================] - 12s 16ms/step - loss: 0.0013 - acc: 0.0013 - val_loss: 0.0014 - val_acc: 0.0000e+00\n",
      "Epoch 73/100\n",
      "791/791 [==============================] - 11s 14ms/step - loss: 0.0013 - acc: 0.0013 - val_loss: 0.0012 - val_acc: 0.0000e+00\n",
      "Epoch 74/100\n",
      "791/791 [==============================] - 13s 16ms/step - loss: 0.0013 - acc: 0.0013 - val_loss: 0.0015 - val_acc: 0.0000e+00\n",
      "Epoch 75/100\n",
      "791/791 [==============================] - 9s 11ms/step - loss: 0.0013 - acc: 0.0013 - val_loss: 0.0011 - val_acc: 0.0000e+00\n",
      "Epoch 76/100\n",
      "791/791 [==============================] - 8s 10ms/step - loss: 0.0013 - acc: 0.0013 - val_loss: 0.0012 - val_acc: 0.0000e+00\n",
      "Epoch 77/100\n",
      "791/791 [==============================] - 8s 10ms/step - loss: 0.0013 - acc: 0.0013 - val_loss: 0.0012 - val_acc: 0.0000e+00\n",
      "Epoch 78/100\n",
      "791/791 [==============================] - 9s 12ms/step - loss: 0.0013 - acc: 0.0013 - val_loss: 9.3186e-04 - val_acc: 0.0000e+00\n",
      "Epoch 79/100\n",
      "791/791 [==============================] - 8s 11ms/step - loss: 0.0014 - acc: 0.0013 - val_loss: 0.0015 - val_acc: 0.0000e+00\n",
      "Epoch 80/100\n",
      "791/791 [==============================] - 8s 10ms/step - loss: 0.0013 - acc: 0.0013 - val_loss: 0.0012 - val_acc: 0.0000e+00\n",
      "Epoch 81/100\n",
      "791/791 [==============================] - 8s 9ms/step - loss: 0.0013 - acc: 0.0013 - val_loss: 0.0012 - val_acc: 0.0000e+00\n",
      "Epoch 82/100\n",
      "791/791 [==============================] - 8s 11ms/step - loss: 0.0013 - acc: 0.0013 - val_loss: 0.0015 - val_acc: 0.0000e+00\n",
      "Epoch 83/100\n",
      "791/791 [==============================] - 9s 11ms/step - loss: 0.0014 - acc: 0.0013 - val_loss: 0.0013 - val_acc: 0.0000e+00\n",
      "Epoch 84/100\n",
      "791/791 [==============================] - 7s 9ms/step - loss: 0.0013 - acc: 0.0013 - val_loss: 0.0016 - val_acc: 0.0000e+00\n",
      "Epoch 85/100\n",
      "791/791 [==============================] - 10s 13ms/step - loss: 0.0013 - acc: 0.0013 - val_loss: 0.0014 - val_acc: 0.0000e+00\n",
      "Epoch 86/100\n",
      "791/791 [==============================] - 8s 10ms/step - loss: 0.0013 - acc: 0.0013 - val_loss: 0.0011 - val_acc: 0.0000e+00\n",
      "Epoch 87/100\n",
      "791/791 [==============================] - 8s 10ms/step - loss: 0.0012 - acc: 0.0013 - val_loss: 0.0013 - val_acc: 0.0000e+00\n",
      "Epoch 88/100\n",
      "791/791 [==============================] - 8s 10ms/step - loss: 0.0012 - acc: 0.0013 - val_loss: 9.2142e-04 - val_acc: 0.0000e+00\n",
      "Epoch 89/100\n",
      "791/791 [==============================] - 9s 12ms/step - loss: 0.0012 - acc: 0.0013 - val_loss: 9.2915e-04 - val_acc: 0.0000e+00\n",
      "Epoch 90/100\n",
      "791/791 [==============================] - 9s 11ms/step - loss: 0.0012 - acc: 0.0013 - val_loss: 8.9236e-04 - val_acc: 0.0000e+00\n",
      "Epoch 91/100\n",
      "791/791 [==============================] - 8s 10ms/step - loss: 0.0012 - acc: 0.0013 - val_loss: 0.0010 - val_acc: 0.0000e+00\n",
      "Epoch 92/100\n",
      "791/791 [==============================] - 8s 10ms/step - loss: 0.0012 - acc: 0.0013 - val_loss: 8.9696e-04 - val_acc: 0.0000e+00\n",
      "Epoch 93/100\n",
      "791/791 [==============================] - 8s 10ms/step - loss: 0.0013 - acc: 0.0013 - val_loss: 0.0013 - val_acc: 0.0000e+00\n",
      "Epoch 94/100\n",
      "791/791 [==============================] - 8s 10ms/step - loss: 0.0013 - acc: 0.0013 - val_loss: 8.7983e-04 - val_acc: 0.0000e+00\n",
      "Epoch 95/100\n",
      "791/791 [==============================] - 9s 11ms/step - loss: 0.0011 - acc: 0.0013 - val_loss: 0.0015 - val_acc: 0.0000e+00\n",
      "Epoch 96/100\n",
      "791/791 [==============================] - 8s 10ms/step - loss: 0.0013 - acc: 0.0013 - val_loss: 8.8794e-04 - val_acc: 0.0000e+00\n",
      "Epoch 97/100\n",
      "791/791 [==============================] - 8s 10ms/step - loss: 0.0013 - acc: 0.0013 - val_loss: 0.0015 - val_acc: 0.0000e+00\n",
      "Epoch 98/100\n",
      "791/791 [==============================] - 9s 12ms/step - loss: 0.0012 - acc: 0.0013 - val_loss: 8.1328e-04 - val_acc: 0.0000e+00\n",
      "Epoch 99/100\n",
      "791/791 [==============================] - 8s 10ms/step - loss: 0.0012 - acc: 0.0013 - val_loss: 0.0012 - val_acc: 0.0000e+00\n",
      "Epoch 100/100\n",
      "791/791 [==============================] - 7s 9ms/step - loss: 0.0012 - acc: 0.0013 - val_loss: 0.0012 - val_acc: 0.0000e+00\n"
     ]
    },
    {
     "data": {
      "text/plain": [
       "<keras.callbacks.History at 0x7fab2f664a90>"
      ]
     },
     "execution_count": 33,
     "metadata": {},
     "output_type": "execute_result"
    }
   ],
   "source": [
    "model.fit(X_train,y_train,batch_size=512,epochs=100,validation_split=0.1,verbose=1)"
   ]
  },
  {
   "cell_type": "code",
   "execution_count": 34,
   "metadata": {},
   "outputs": [
    {
     "name": "stdout",
     "output_type": "stream",
     "text": [
      "(98, 1)\n"
     ]
    }
   ],
   "source": [
    "# print(X_test[-1])\n",
    "diff=[]\n",
    "ratio=[]\n",
    "p = model.predict(X_test)\n",
    "print (p.shape)\n",
    "# for each data index in test data\n",
    "for u in range(len(y_test)):\n",
    "    # pr = prediction day u\n",
    "    pr = p[u][0]\n",
    "    # (y_test day u / pr) - 1\n",
    "    ratio.append((y_test[u]/pr)-1)\n",
    "    diff.append(abs(y_test[u]- pr))\n",
    "    # print(u, y_test[u], pr, (y_test[u]/pr)-1, abs(y_test[u]- pr))\n",
    "    # Last day prediction\n",
    "    # print(p[-1]) "
   ]
  },
  {
   "cell_type": "markdown",
   "metadata": {},
   "source": [
    "# Denormalize the Data"
   ]
  },
  {
   "cell_type": "code",
   "execution_count": 35,
   "metadata": {},
   "outputs": [],
   "source": [
    "adj2 = pd.read_csv(\"./prices-split-adjusted.csv\", index_col = 0)\n",
    "adj2[\"adj close\"] = adj2.close # Moving close to the last column\n",
    "adj2.drop(['close'], 1, inplace=True) # Moving close to the last column\n",
    "adj2 = adj2[adj2.symbol == 'FB']\n",
    "adj2.drop(['symbol'],1,inplace=True)\n",
    "\n",
    "# Bug fixed at here, please update the denormalize function to this one\n",
    "def denormalize(adj2, normalized_value): \n",
    "    adj2 = adj2['adj close'].values.reshape(-1,1)\n",
    "    normalized_value = normalized_value.reshape(-1,1)\n",
    "    \n",
    "    #return df.shape, p.shape\n",
    "    min_max_scaler = preprocessing.MinMaxScaler()\n",
    "    a = min_max_scaler.fit_transform(adj2)\n",
    "    new = min_max_scaler.inverse_transform(normalized_value)\n",
    "    return new\n",
    "\n",
    "newp = denormalize(adj2, p)\n",
    "newy_test = denormalize(adj2, y_test)"
   ]
  },
  {
   "cell_type": "markdown",
   "metadata": {},
   "source": [
    "# Creating a Model Score"
   ]
  },
  {
   "cell_type": "code",
   "execution_count": 36,
   "metadata": {},
   "outputs": [
    {
     "name": "stdout",
     "output_type": "stream",
     "text": [
      "Train Score: 0.00078 MSE (0.03 RMSE)\n",
      "Test Score: 0.00136 MSE (0.04 RMSE)\n"
     ]
    },
    {
     "data": {
      "text/plain": [
       "(0.0007798585050609026, 0.0013630808118287692)"
      ]
     },
     "execution_count": 36,
     "metadata": {},
     "output_type": "execute_result"
    }
   ],
   "source": [
    "def model_score(model, X_train, y_train, X_test, y_test):\n",
    "    trainScore = model.evaluate(X_train, y_train, verbose=0)\n",
    "    print('Train Score: %.5f MSE (%.2f RMSE)' % (trainScore[0], math.sqrt(trainScore[0])))\n",
    "\n",
    "    testScore = model.evaluate(X_test, y_test, verbose=0)\n",
    "    print('Test Score: %.5f MSE (%.2f RMSE)' % (testScore[0], math.sqrt(testScore[0])))\n",
    "    return trainScore[0], testScore[0]\n",
    "\n",
    "\n",
    "model_score(model, X_train, y_train, X_test, y_test)"
   ]
  },
  {
   "cell_type": "markdown",
   "metadata": {},
   "source": [
    "# Creating Visualizations"
   ]
  },
  {
   "cell_type": "code",
   "execution_count": 37,
   "metadata": {},
   "outputs": [
    {
     "data": {
      "image/png": "[encoded data removed]",
      "text/plain": [
       "<Figure size 432x288 with 1 Axes>"
      ]
     },
     "metadata": {
      "needs_background": "light"
     },
     "output_type": "display_data"
    }
   ],
   "source": [
    "import matplotlib.pyplot as plt2\n",
    "\n",
    "plt2.plot(newp,color='blue', label='Prediction')\n",
    "plt2.plot(newy_test,color='brown', label='Actual')\n",
    "plt2.legend(loc='best')\n",
    "plt2.show()"
   ]
  },
  {
   "cell_type": "code",
   "execution_count": null,
   "metadata": {},
   "outputs": [],
   "source": []
  },
  {
   "cell_type": "code",
   "execution_count": null,
   "metadata": {},
   "outputs": [],
   "source": []
  }
 ],
 "metadata": {
  "kernelspec": {
   "display_name": "Python 3",
   "language": "python",
   "name": "python3"
  },
  "language_info": {
   "codemirror_mode": {
    "name": "ipython",
    "version": 3
   },
   "file_extension": ".py",
   "mimetype": "text/x-python",
   "name": "python",
   "nbconvert_exporter": "python",
   "pygments_lexer": "ipython3",
   "version": "3.6.6"
  }
 },
 "nbformat": 4,
 "nbformat_minor": 2
}
